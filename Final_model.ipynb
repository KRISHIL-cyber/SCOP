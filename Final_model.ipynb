{
  "nbformat": 4,
  "nbformat_minor": 0,
  "metadata": {
    "colab": {
      "name": "Final_model.ipynb",
      "provenance": [],
      "collapsed_sections": []
    },
    "kernelspec": {
      "name": "python3",
      "display_name": "Python 3"
    },
    "language_info": {
      "name": "python"
    },
    "accelerator": "GPU"
  },
  "cells": [
    {
      "cell_type": "code",
      "execution_count": null,
      "metadata": {
        "id": "RGmPhUJ5MSZW"
      },
      "outputs": [],
      "source": [
        "import pandas as pd\n",
        "import seaborn as sb\n",
        "import numpy as np\n",
        "from sklearn.preprocessing import LabelEncoder\n",
        "from sklearn.preprocessing import MinMaxScaler, StandardScaler\n",
        "from sklearn.model_selection import train_test_split\n",
        "from sklearn.metrics import confusion_matrix, precision_score, accuracy_score, recall_score, f1_score, classification_report\n"
      ]
    },
    {
      "cell_type": "code",
      "source": [
        "!pip install -U xgboost"
      ],
      "metadata": {
        "colab": {
          "base_uri": "https://localhost:8080/"
        },
        "id": "ZZfGLdGKMbMb",
        "outputId": "a64d4bce-448d-4652-aa73-48212386f51c"
      },
      "execution_count": null,
      "outputs": [
        {
          "output_type": "stream",
          "name": "stdout",
          "text": [
            "Requirement already satisfied: xgboost in /usr/local/lib/python3.7/dist-packages (0.90)\n",
            "Collecting xgboost\n",
            "  Downloading xgboost-1.5.2-py3-none-manylinux2014_x86_64.whl (173.6 MB)\n",
            "\u001b[K     |████████████████████████████████| 173.6 MB 8.1 kB/s \n",
            "\u001b[?25hRequirement already satisfied: scipy in /usr/local/lib/python3.7/dist-packages (from xgboost) (1.4.1)\n",
            "Requirement already satisfied: numpy in /usr/local/lib/python3.7/dist-packages (from xgboost) (1.21.5)\n",
            "Installing collected packages: xgboost\n",
            "  Attempting uninstall: xgboost\n",
            "    Found existing installation: xgboost 0.90\n",
            "    Uninstalling xgboost-0.90:\n",
            "      Successfully uninstalled xgboost-0.90\n",
            "Successfully installed xgboost-1.5.2\n"
          ]
        }
      ]
    },
    {
      "cell_type": "code",
      "source": [
        "from xgboost import XGBClassifier"
      ],
      "metadata": {
        "id": "ESOO58knMeca"
      },
      "execution_count": null,
      "outputs": []
    },
    {
      "cell_type": "code",
      "source": [
        "from google.colab import drive\n",
        "drive.mount('/content/drive')"
      ],
      "metadata": {
        "colab": {
          "base_uri": "https://localhost:8080/"
        },
        "id": "ulyxrP9iMh5F",
        "outputId": "789fb58e-7d0c-400c-8931-12049c8dc430"
      },
      "execution_count": null,
      "outputs": [
        {
          "output_type": "stream",
          "name": "stdout",
          "text": [
            "Mounted at /content/drive\n"
          ]
        }
      ]
    },
    {
      "cell_type": "code",
      "source": [
        "import pickle"
      ],
      "metadata": {
        "id": "WTe8JXVQllds"
      },
      "execution_count": null,
      "outputs": []
    },
    {
      "cell_type": "code",
      "source": [
        "accuracy_scores=[]"
      ],
      "metadata": {
        "id": "cXKW3Jw4Mh1S"
      },
      "execution_count": null,
      "outputs": []
    },
    {
      "cell_type": "code",
      "source": [
        "%cd /content/drive/MyDrive/Project/Features_PSSM"
      ],
      "metadata": {
        "colab": {
          "base_uri": "https://localhost:8080/"
        },
        "id": "00ji0qd5DAMW",
        "outputId": "fe3ccb39-3ca1-47aa-e222-4ecfeb2f8589"
      },
      "execution_count": null,
      "outputs": [
        {
          "output_type": "stream",
          "name": "stdout",
          "text": [
            "/content/drive/MyDrive/Project/Features_PSSM\n"
          ]
        }
      ]
    },
    {
      "cell_type": "code",
      "source": [
        "def classModel3(data):\n",
        "  X= data.iloc[:,:-1].values\n",
        "  y= data.iloc[:,-1].values\n",
        "  \n",
        "  le = LabelEncoder()\n",
        "  print(y)\n",
        "  y= le.fit_transform(y) \n",
        "  print(y)\n",
        "\n",
        "  X_train, X_test, y_train, y_test = train_test_split(X, y, test_size = 0.30, random_state = 5)\n",
        "\n",
        "  model = XGBClassifier(tree_method='gpu_hist',use_label_encoder=False)\n",
        "  model.fit(X_train, y_train)\n",
        "  y_pred = model.predict(X_test)\n",
        "\n",
        "  print('\\nClassification report:\\n', classification_report(y_test,y_pred))\n",
        "  print('Confusion matrix: \\n', confusion_matrix(y_test,y_pred))\n",
        "\n",
        "  accuracy = accuracy_score(y_test,y_pred)\n",
        "  accuracy_scores.append(accuracy)\n",
        "  print(\"\\n\\nAccuracy:\",accuracy_score(y_test, y_pred))\n",
        "\n",
        "  print(\"\\n\\nPrecision:\",precision_score(y_test, y_pred, average=None))\n",
        "  print(\"\\nRecall:\",recall_score(y_test, y_pred, average=None))\n",
        "  print(\"\\nF1 score:\",f1_score(y_test, y_pred, average=None))"
      ],
      "metadata": {
        "id": "_dAGC1H0FZmP"
      },
      "execution_count": null,
      "outputs": []
    },
    {
      "cell_type": "code",
      "source": [
        "def automation(filenames):\n",
        "  size= len(filenames)\n",
        "  for i in range(size):\n",
        "    print()\n",
        "    print()\n",
        "    print(\"Feature Name: \", filenames[i])\n",
        "    print()\n",
        "    data = pd.read_csv(filenames[i])\n",
        "    classModel3(data)"
      ],
      "metadata": {
        "id": "tTxIamFBF0ZD"
      },
      "execution_count": null,
      "outputs": []
    },
    {
      "cell_type": "code",
      "source": [
        "files= ['AADP_PSSM.csv', 'DPC_PSSM.csv', 'DFMCA_PSSM.csv', 'LPC_PSSM.csv', 'MBMGAC_PSSM.csv',\n",
        "        'SOMA_PSSM.csv', 'SINGLE_AVERAGE_PSSM.csv', 'SVD_PSSM.csv',\n",
        "        'AATP_TPCC.csv',\n",
        "               'K_SEPERATED_BIGRAME.csv',\n",
        "               'CS_PSE_PSSM.csv',\n",
        "               'DWT_PSSM.csv',\n",
        "               'EDP_MEDP.csv',\n",
        "               'FPSSM.csv',\n",
        "               'PSSMBLOCK.csv',\n",
        "               'SCSH2.csv',\n",
        "               'TRIGRAME_PSSM.csv',\n",
        "                'combined_CS_PSE_MBMGAC.csv',\n",
        "        'combined_pssm.csv'\n",
        "               ]"
      ],
      "metadata": {
        "id": "IHa_O-tsHYUc"
      },
      "execution_count": null,
      "outputs": []
    },
    {
      "cell_type": "code",
      "source": [
        "automation(files)"
      ],
      "metadata": {
        "colab": {
          "base_uri": "https://localhost:8080/"
        },
        "id": "BYT3K00pED42",
        "outputId": "26ebe836-eb71-4794-cd2d-70f751d366b6"
      },
      "execution_count": null,
      "outputs": [
        {
          "output_type": "stream",
          "name": "stdout",
          "text": [
            "\n",
            "\n",
            "Feature Name:  AADP_PSSM.csv\n",
            "\n",
            "['d' 'd' 'd' ... 'd' 'd' 'b']\n",
            "[3 3 3 ... 3 3 1]\n",
            "[06:21:59] WARNING: ../src/learner.cc:1115: Starting in XGBoost 1.3.0, the default evaluation metric used with the objective 'multi:softprob' was changed from 'merror' to 'mlogloss'. Explicitly set eval_metric if you'd like to restore the old behavior.\n",
            "\n",
            "Classification report:\n",
            "               precision    recall  f1-score   support\n",
            "\n",
            "           0       0.80      0.77      0.79       772\n",
            "           1       0.74      0.77      0.76       825\n",
            "           2       0.84      0.89      0.87      1293\n",
            "           3       0.70      0.63      0.66      1021\n",
            "\n",
            "    accuracy                           0.78      3911\n",
            "   macro avg       0.77      0.77      0.77      3911\n",
            "weighted avg       0.77      0.78      0.78      3911\n",
            "\n",
            "Confusion matrix: \n",
            " [[ 598   33   54   87]\n",
            " [  29  637   38  121]\n",
            " [  27   35 1157   74]\n",
            " [  91  152  130  648]]\n",
            "\n",
            "\n",
            "Accuracy: 0.7772948095116339\n",
            "\n",
            "\n",
            "Precision: [0.80268456 0.74329055 0.83901378 0.69677419]\n",
            "\n",
            "Recall: [0.7746114  0.77212121 0.89481825 0.63467189]\n",
            "\n",
            "F1 score: [0.78839815 0.75743163 0.86601796 0.66427473]\n",
            "\n",
            "\n",
            "Feature Name:  DPC_PSSM.csv\n",
            "\n",
            "['d' 'd' 'd' ... 'd' 'd' 'b']\n",
            "[3 3 3 ... 3 3 1]\n",
            "[06:22:18] WARNING: ../src/learner.cc:1115: Starting in XGBoost 1.3.0, the default evaluation metric used with the objective 'multi:softprob' was changed from 'merror' to 'mlogloss'. Explicitly set eval_metric if you'd like to restore the old behavior.\n",
            "\n",
            "Classification report:\n",
            "               precision    recall  f1-score   support\n",
            "\n",
            "           0       0.81      0.76      0.79       772\n",
            "           1       0.76      0.79      0.77       825\n",
            "           2       0.84      0.89      0.86      1293\n",
            "           3       0.70      0.65      0.68      1021\n",
            "\n",
            "    accuracy                           0.78      3911\n",
            "   macro avg       0.78      0.77      0.77      3911\n",
            "weighted avg       0.78      0.78      0.78      3911\n",
            "\n",
            "Confusion matrix: \n",
            " [[ 589   41   52   90]\n",
            " [  28  648   35  114]\n",
            " [  26   31 1154   82]\n",
            " [  84  134  137  666]]\n",
            "\n",
            "\n",
            "Accuracy: 0.7816415239069292\n",
            "\n",
            "\n",
            "Precision: [0.81017882 0.7587822  0.83744557 0.69957983]\n",
            "\n",
            "Recall: [0.76295337 0.78545455 0.89249807 0.65230167]\n",
            "\n",
            "F1 score: [0.78585724 0.77188803 0.86409584 0.67511404]\n",
            "\n",
            "\n",
            "Feature Name:  DFMCA_PSSM.csv\n",
            "\n",
            "['d' 'd' 'd' ... 'd' 'd' 'b']\n",
            "[3 3 3 ... 3 3 1]\n",
            "[06:22:31] WARNING: ../src/learner.cc:1115: Starting in XGBoost 1.3.0, the default evaluation metric used with the objective 'multi:softprob' was changed from 'merror' to 'mlogloss'. Explicitly set eval_metric if you'd like to restore the old behavior.\n",
            "\n",
            "Classification report:\n",
            "               precision    recall  f1-score   support\n",
            "\n",
            "           0       0.82      0.79      0.81       772\n",
            "           1       0.74      0.78      0.76       825\n",
            "           2       0.82      0.86      0.84      1293\n",
            "           3       0.65      0.61      0.63      1021\n",
            "\n",
            "    accuracy                           0.76      3911\n",
            "   macro avg       0.76      0.76      0.76      3911\n",
            "weighted avg       0.76      0.76      0.76      3911\n",
            "\n",
            "Confusion matrix: \n",
            " [[ 607   37   30   98]\n",
            " [  22  640   45  118]\n",
            " [  21   41 1115  116]\n",
            " [  86  144  164  627]]\n",
            "\n",
            "\n",
            "Accuracy: 0.7642546663257479\n",
            "\n",
            "\n",
            "Precision: [0.82472826 0.7424594  0.82348597 0.65380605]\n",
            "\n",
            "Recall: [0.78626943 0.77575758 0.86233565 0.61410382]\n",
            "\n",
            "F1 score: [0.80503979 0.75874333 0.84246317 0.63333333]\n",
            "\n",
            "\n",
            "Feature Name:  LPC_PSSM.csv\n",
            "\n",
            "['d' 'd' 'd' ... 'd' 'd' 'b']\n",
            "[3 3 3 ... 3 3 1]\n",
            "[06:22:40] WARNING: ../src/learner.cc:1115: Starting in XGBoost 1.3.0, the default evaluation metric used with the objective 'multi:softprob' was changed from 'merror' to 'mlogloss'. Explicitly set eval_metric if you'd like to restore the old behavior.\n",
            "\n",
            "Classification report:\n",
            "               precision    recall  f1-score   support\n",
            "\n",
            "           0       0.74      0.72      0.73       772\n",
            "           1       0.68      0.71      0.70       825\n",
            "           2       0.80      0.84      0.82      1293\n",
            "           3       0.62      0.56      0.59      1021\n",
            "\n",
            "    accuracy                           0.72      3911\n",
            "   macro avg       0.71      0.71      0.71      3911\n",
            "weighted avg       0.71      0.72      0.71      3911\n",
            "\n",
            "Confusion matrix: \n",
            " [[ 552   45   74  101]\n",
            " [  42  589   41  153]\n",
            " [  49   57 1088   99]\n",
            " [ 106  178  164  573]]\n",
            "\n",
            "\n",
            "Accuracy: 0.7164408079774993\n",
            "\n",
            "\n",
            "Precision: [0.73698264 0.67779056 0.79590344 0.6187905 ]\n",
            "\n",
            "Recall: [0.71502591 0.71393939 0.84145398 0.5612145 ]\n",
            "\n",
            "F1 score: [0.72583826 0.69539551 0.81804511 0.58859784]\n",
            "\n",
            "\n",
            "Feature Name:  MBMGAC_PSSM.csv\n",
            "\n",
            "['d' 'd' 'd' ... 'd' 'd' 'b']\n",
            "[3 3 3 ... 3 3 1]\n",
            "[06:22:53] WARNING: ../src/learner.cc:1115: Starting in XGBoost 1.3.0, the default evaluation metric used with the objective 'multi:softprob' was changed from 'merror' to 'mlogloss'. Explicitly set eval_metric if you'd like to restore the old behavior.\n",
            "\n",
            "Classification report:\n",
            "               precision    recall  f1-score   support\n",
            "\n",
            "           0       0.89      0.85      0.87       772\n",
            "           1       0.79      0.84      0.82       825\n",
            "           2       0.88      0.90      0.89      1293\n",
            "           3       0.75      0.72      0.73      1021\n",
            "\n",
            "    accuracy                           0.83      3911\n",
            "   macro avg       0.83      0.83      0.83      3911\n",
            "weighted avg       0.83      0.83      0.83      3911\n",
            "\n",
            "Confusion matrix: \n",
            " [[ 656   21   29   66]\n",
            " [  16  697   18   94]\n",
            " [  12   39 1158   84]\n",
            " [  49  127  113  732]]\n",
            "\n",
            "\n",
            "Accuracy: 0.8291996931731015\n",
            "\n",
            "\n",
            "Precision: [0.89495225 0.78846154 0.87860395 0.75      ]\n",
            "\n",
            "Recall: [0.84974093 0.84484848 0.89559165 0.71694417]\n",
            "\n",
            "F1 score: [0.8717608  0.81568169 0.88701647 0.73309965]\n",
            "\n",
            "\n",
            "Feature Name:  SOMA_PSSM.csv\n",
            "\n",
            "['d' 'd' 'd' ... 'd' 'd' 'b']\n",
            "[3 3 3 ... 3 3 1]\n",
            "[06:23:09] WARNING: ../src/learner.cc:1115: Starting in XGBoost 1.3.0, the default evaluation metric used with the objective 'multi:softprob' was changed from 'merror' to 'mlogloss'. Explicitly set eval_metric if you'd like to restore the old behavior.\n",
            "\n",
            "Classification report:\n",
            "               precision    recall  f1-score   support\n",
            "\n",
            "           0       0.82      0.80      0.81       772\n",
            "           1       0.74      0.77      0.75       825\n",
            "           2       0.81      0.85      0.83      1293\n",
            "           3       0.65      0.59      0.62      1021\n",
            "\n",
            "    accuracy                           0.76      3911\n",
            "   macro avg       0.75      0.76      0.75      3911\n",
            "weighted avg       0.75      0.76      0.76      3911\n",
            "\n",
            "Confusion matrix: \n",
            " [[ 620   34   34   84]\n",
            " [  27  638   44  116]\n",
            " [  25   44 1098  126]\n",
            " [  85  152  177  607]]\n",
            "\n",
            "\n",
            "Accuracy: 0.7576067501917668\n",
            "\n",
            "\n",
            "Precision: [0.81902246 0.73502304 0.81152993 0.6505895 ]\n",
            "\n",
            "Recall: [0.80310881 0.77333333 0.84918794 0.59451518]\n",
            "\n",
            "F1 score: [0.81098757 0.75369167 0.82993197 0.62128966]\n",
            "\n",
            "\n",
            "Feature Name:  SINGLE_AVERAGE_PSSM.csv\n",
            "\n",
            "['d' 'd' 'd' ... 'd' 'd' 'b']\n",
            "[3 3 3 ... 3 3 1]\n",
            "[06:23:17] WARNING: ../src/learner.cc:1115: Starting in XGBoost 1.3.0, the default evaluation metric used with the objective 'multi:softprob' was changed from 'merror' to 'mlogloss'. Explicitly set eval_metric if you'd like to restore the old behavior.\n",
            "\n",
            "Classification report:\n",
            "               precision    recall  f1-score   support\n",
            "\n",
            "           0       0.71      0.55      0.62       772\n",
            "           1       0.61      0.64      0.62       825\n",
            "           2       0.71      0.83      0.77      1293\n",
            "           3       0.51      0.48      0.49      1021\n",
            "\n",
            "    accuracy                           0.64      3911\n",
            "   macro avg       0.64      0.62      0.62      3911\n",
            "weighted avg       0.64      0.64      0.63      3911\n",
            "\n",
            "Confusion matrix: \n",
            " [[ 423   95  108  146]\n",
            " [  45  524   79  177]\n",
            " [  26   55 1070  142]\n",
            " [ 103  187  245  486]]\n",
            "\n",
            "\n",
            "Accuracy: 0.639989772436717\n",
            "\n",
            "\n",
            "Precision: [0.70854271 0.60859466 0.71238349 0.51104101]\n",
            "\n",
            "Recall: [0.54792746 0.63515152 0.82753287 0.47600392]\n",
            "\n",
            "F1 score: [0.61796932 0.62158956 0.76565295 0.49290061]\n",
            "\n",
            "\n",
            "Feature Name:  SVD_PSSM.csv\n",
            "\n",
            "['d' 'd' 'd' ... 'd' 'd' 'b']\n",
            "[3 3 3 ... 3 3 1]\n",
            "[06:23:29] WARNING: ../src/learner.cc:1115: Starting in XGBoost 1.3.0, the default evaluation metric used with the objective 'multi:softprob' was changed from 'merror' to 'mlogloss'. Explicitly set eval_metric if you'd like to restore the old behavior.\n",
            "\n",
            "Classification report:\n",
            "               precision    recall  f1-score   support\n",
            "\n",
            "           0       0.55      0.43      0.48       772\n",
            "           1       0.53      0.53      0.53       825\n",
            "           2       0.69      0.80      0.74      1293\n",
            "           3       0.47      0.45      0.46      1021\n",
            "\n",
            "    accuracy                           0.58      3911\n",
            "   macro avg       0.56      0.55      0.55      3911\n",
            "weighted avg       0.57      0.58      0.57      3911\n",
            "\n",
            "Confusion matrix: \n",
            " [[ 332  132  125  183]\n",
            " [ 104  435  103  183]\n",
            " [  35   70 1040  148]\n",
            " [ 136  185  245  455]]\n",
            "\n",
            "\n",
            "Accuracy: 0.5783687036563538\n",
            "\n",
            "\n",
            "Precision: [0.54695222 0.52919708 0.68737607 0.46955624]\n",
            "\n",
            "Recall: [0.43005181 0.52727273 0.80433101 0.44564153]\n",
            "\n",
            "F1 score: [0.48150834 0.52823315 0.74126871 0.45728643]\n",
            "\n",
            "\n",
            "Feature Name:  AATP_TPCC.csv\n",
            "\n",
            "['d' 'd' 'd' ... 'd' 'd' 'b']\n",
            "[3 3 3 ... 3 3 1]\n",
            "[06:23:33] WARNING: ../src/learner.cc:1115: Starting in XGBoost 1.3.0, the default evaluation metric used with the objective 'multi:softprob' was changed from 'merror' to 'mlogloss'. Explicitly set eval_metric if you'd like to restore the old behavior.\n",
            "\n",
            "Classification report:\n",
            "               precision    recall  f1-score   support\n",
            "\n",
            "           0       0.81      0.79      0.80       772\n",
            "           1       0.74      0.82      0.78       825\n",
            "           2       0.86      0.89      0.88      1293\n",
            "           3       0.73      0.65      0.69      1021\n",
            "\n",
            "    accuracy                           0.79      3911\n",
            "   macro avg       0.79      0.79      0.78      3911\n",
            "weighted avg       0.79      0.79      0.79      3911\n",
            "\n",
            "Confusion matrix: \n",
            " [[ 609   41   35   87]\n",
            " [  26  673   29   97]\n",
            " [  29   42 1155   67]\n",
            " [  87  150  121  663]]\n",
            "\n",
            "\n",
            "Accuracy: 0.7926361544362056\n",
            "\n",
            "\n",
            "Precision: [0.81091877 0.74282561 0.8619403  0.72538293]\n",
            "\n",
            "Recall: [0.7888601  0.81575758 0.89327146 0.64936337]\n",
            "\n",
            "F1 score: [0.79973736 0.77758521 0.87732624 0.68527132]\n",
            "\n",
            "\n",
            "Feature Name:  K_SEPERATED_BIGRAME.csv\n",
            "\n",
            "['d' 'd' 'd' ... 'd' 'd' 'b']\n",
            "[3 3 3 ... 3 3 1]\n",
            "[06:23:48] WARNING: ../src/learner.cc:1115: Starting in XGBoost 1.3.0, the default evaluation metric used with the objective 'multi:softprob' was changed from 'merror' to 'mlogloss'. Explicitly set eval_metric if you'd like to restore the old behavior.\n",
            "\n",
            "Classification report:\n",
            "               precision    recall  f1-score   support\n",
            "\n",
            "           0       0.78      0.71      0.74       772\n",
            "           1       0.70      0.74      0.72       825\n",
            "           2       0.81      0.84      0.82      1293\n",
            "           3       0.63      0.61      0.62      1021\n",
            "\n",
            "    accuracy                           0.73      3911\n",
            "   macro avg       0.73      0.72      0.72      3911\n",
            "weighted avg       0.73      0.73      0.73      3911\n",
            "\n",
            "Confusion matrix: \n",
            " [[ 545   60   68   99]\n",
            " [  34  611   39  141]\n",
            " [  29   51 1088  125]\n",
            " [  95  153  154  619]]\n",
            "\n",
            "\n",
            "Accuracy: 0.7320378419841472\n",
            "\n",
            "\n",
            "Precision: [0.77524893 0.69828571 0.80652335 0.62906504]\n",
            "\n",
            "Recall: [0.70595855 0.74060606 0.84145398 0.60626836]\n",
            "\n",
            "F1 score: [0.73898305 0.71882353 0.82361847 0.61745636]\n",
            "\n",
            "\n",
            "Feature Name:  CS_PSE_PSSM.csv\n",
            "\n",
            "['d' 'd' 'd' ... 'd' 'd' 'b']\n",
            "[3 3 3 ... 3 3 1]\n",
            "[06:24:02] WARNING: ../src/learner.cc:1115: Starting in XGBoost 1.3.0, the default evaluation metric used with the objective 'multi:softprob' was changed from 'merror' to 'mlogloss'. Explicitly set eval_metric if you'd like to restore the old behavior.\n",
            "\n",
            "Classification report:\n",
            "               precision    recall  f1-score   support\n",
            "\n",
            "           0       0.88      0.87      0.87       772\n",
            "           1       0.81      0.86      0.83       825\n",
            "           2       0.88      0.90      0.89      1293\n",
            "           3       0.77      0.71      0.74      1021\n",
            "\n",
            "    accuracy                           0.84      3911\n",
            "   macro avg       0.83      0.84      0.83      3911\n",
            "weighted avg       0.84      0.84      0.84      3911\n",
            "\n",
            "Confusion matrix: \n",
            " [[ 670   15   27   60]\n",
            " [  14  709   15   87]\n",
            " [  20   32 1164   77]\n",
            " [  56  124  111  730]]\n",
            "\n",
            "\n",
            "Accuracy: 0.8368703656353874\n",
            "\n",
            "\n",
            "Precision: [0.88157895 0.80568182 0.88382688 0.76519916]\n",
            "\n",
            "Recall: [0.86787565 0.85939394 0.90023202 0.71498531]\n",
            "\n",
            "F1 score: [0.87467363 0.83167155 0.89195402 0.73924051]\n",
            "\n",
            "\n",
            "Feature Name:  DWT_PSSM.csv\n",
            "\n",
            "['d' 'd' 'd' ... 'd' 'd' 'b']\n",
            "[3 3 3 ... 3 3 1]\n",
            "[06:24:21] WARNING: ../src/learner.cc:1115: Starting in XGBoost 1.3.0, the default evaluation metric used with the objective 'multi:softprob' was changed from 'merror' to 'mlogloss'. Explicitly set eval_metric if you'd like to restore the old behavior.\n",
            "\n",
            "Classification report:\n",
            "               precision    recall  f1-score   support\n",
            "\n",
            "           0       0.79      0.75      0.77       772\n",
            "           1       0.72      0.74      0.73       825\n",
            "           2       0.80      0.85      0.82      1293\n",
            "           3       0.62      0.58      0.60      1021\n",
            "\n",
            "    accuracy                           0.74      3911\n",
            "   macro avg       0.73      0.73      0.73      3911\n",
            "weighted avg       0.73      0.74      0.74      3911\n",
            "\n",
            "Confusion matrix: \n",
            " [[ 582   46   51   93]\n",
            " [  33  607   46  139]\n",
            " [  25   41 1101  126]\n",
            " [  94  149  183  595]]\n",
            "\n",
            "\n",
            "Accuracy: 0.7376630017898236\n",
            "\n",
            "\n",
            "Precision: [0.79291553 0.72004745 0.79724837 0.62434418]\n",
            "\n",
            "Recall: [0.75388601 0.73575758 0.85150812 0.582762  ]\n",
            "\n",
            "F1 score: [0.77290837 0.72781775 0.82348542 0.60283688]\n",
            "\n",
            "\n",
            "Feature Name:  EDP_MEDP.csv\n",
            "\n",
            "['d' 'd' 'd' ... 'd' 'd' 'b']\n",
            "[3 3 3 ... 3 3 1]\n",
            "[06:24:28] WARNING: ../src/learner.cc:1115: Starting in XGBoost 1.3.0, the default evaluation metric used with the objective 'multi:softprob' was changed from 'merror' to 'mlogloss'. Explicitly set eval_metric if you'd like to restore the old behavior.\n",
            "\n",
            "Classification report:\n",
            "               precision    recall  f1-score   support\n",
            "\n",
            "           0       0.85      0.84      0.84       772\n",
            "           1       0.78      0.82      0.80       825\n",
            "           2       0.86      0.89      0.87      1293\n",
            "           3       0.73      0.67      0.70      1021\n",
            "\n",
            "    accuracy                           0.81      3911\n",
            "   macro avg       0.80      0.81      0.80      3911\n",
            "weighted avg       0.81      0.81      0.81      3911\n",
            "\n",
            "Confusion matrix: \n",
            " [[ 646   24   28   74]\n",
            " [  13  680   33   99]\n",
            " [  27   30 1155   81]\n",
            " [  71  135  134  681]]\n",
            "\n",
            "\n",
            "Accuracy: 0.8084888775249297\n",
            "\n",
            "\n",
            "Precision: [0.85336856 0.78250863 0.85555556 0.72834225]\n",
            "\n",
            "Recall: [0.83678756 0.82424242 0.89327146 0.66699314]\n",
            "\n",
            "F1 score: [0.84499673 0.80283353 0.87400681 0.69631902]\n",
            "\n",
            "\n",
            "Feature Name:  FPSSM.csv\n",
            "\n",
            "['d' 'd' 'd' ... 'd' 'd' 'b']\n",
            "[3 3 3 ... 3 3 1]\n",
            "[06:24:42] WARNING: ../src/learner.cc:1115: Starting in XGBoost 1.3.0, the default evaluation metric used with the objective 'multi:softprob' was changed from 'merror' to 'mlogloss'. Explicitly set eval_metric if you'd like to restore the old behavior.\n",
            "\n",
            "Classification report:\n",
            "               precision    recall  f1-score   support\n",
            "\n",
            "           0       0.79      0.76      0.77       772\n",
            "           1       0.73      0.71      0.72       825\n",
            "           2       0.77      0.85      0.81      1293\n",
            "           3       0.62      0.58      0.60      1021\n",
            "\n",
            "    accuracy                           0.73      3911\n",
            "   macro avg       0.73      0.72      0.73      3911\n",
            "weighted avg       0.73      0.73      0.73      3911\n",
            "\n",
            "Confusion matrix: \n",
            " [[ 584   36   63   89]\n",
            " [  33  585   58  149]\n",
            " [  32   36 1100  125]\n",
            " [  89  141  203  588]]\n",
            "\n",
            "\n",
            "Accuracy: 0.7305037074916901\n",
            "\n",
            "\n",
            "Precision: [0.79132791 0.73308271 0.77247191 0.61829653]\n",
            "\n",
            "Recall: [0.75647668 0.70909091 0.85073473 0.57590597]\n",
            "\n",
            "F1 score: [0.77350993 0.72088725 0.8097166  0.59634888]\n",
            "\n",
            "\n",
            "Feature Name:  PSSMBLOCK.csv\n",
            "\n",
            "['d' 'd' 'd' ... 'd' 'd' 'b']\n",
            "[3 3 3 ... 3 3 1]\n",
            "[06:24:54] WARNING: ../src/learner.cc:1115: Starting in XGBoost 1.3.0, the default evaluation metric used with the objective 'multi:softprob' was changed from 'merror' to 'mlogloss'. Explicitly set eval_metric if you'd like to restore the old behavior.\n",
            "\n",
            "Classification report:\n",
            "               precision    recall  f1-score   support\n",
            "\n",
            "           0       0.80      0.74      0.77       772\n",
            "           1       0.72      0.74      0.73       825\n",
            "           2       0.83      0.87      0.85      1293\n",
            "           3       0.68      0.66      0.67      1021\n",
            "\n",
            "    accuracy                           0.76      3911\n",
            "   macro avg       0.76      0.75      0.75      3911\n",
            "weighted avg       0.76      0.76      0.76      3911\n",
            "\n",
            "Confusion matrix: \n",
            " [[ 570   57   49   96]\n",
            " [  36  608   50  131]\n",
            " [  18   51 1127   97]\n",
            " [  89  123  132  677]]\n",
            "\n",
            "\n",
            "Accuracy: 0.7624648427512145\n",
            "\n",
            "\n",
            "Precision: [0.79943899 0.72467223 0.82989691 0.67632368]\n",
            "\n",
            "Recall: [0.73834197 0.7369697  0.8716164  0.66307542]\n",
            "\n",
            "F1 score: [0.76767677 0.73076923 0.85024519 0.66963403]\n",
            "\n",
            "\n",
            "Feature Name:  SCSH2.csv\n",
            "\n",
            "['d' 'd' 'd' ... 'd' 'd' 'b']\n",
            "[3 3 3 ... 3 3 1]\n",
            "[06:25:05] WARNING: ../src/learner.cc:1115: Starting in XGBoost 1.3.0, the default evaluation metric used with the objective 'multi:softprob' was changed from 'merror' to 'mlogloss'. Explicitly set eval_metric if you'd like to restore the old behavior.\n",
            "\n",
            "Classification report:\n",
            "               precision    recall  f1-score   support\n",
            "\n",
            "           0       0.68      0.62      0.65       772\n",
            "           1       0.67      0.62      0.64       825\n",
            "           2       0.70      0.82      0.76      1293\n",
            "           3       0.52      0.47      0.49      1021\n",
            "\n",
            "    accuracy                           0.65      3911\n",
            "   macro avg       0.64      0.63      0.64      3911\n",
            "weighted avg       0.64      0.65      0.64      3911\n",
            "\n",
            "Confusion matrix: \n",
            " [[ 481   43  110  138]\n",
            " [  41  515  106  163]\n",
            " [  53   44 1064  132]\n",
            " [ 128  172  244  477]]\n",
            "\n",
            "\n",
            "Accuracy: 0.6486832012273076\n",
            "\n",
            "\n",
            "Precision: [0.68421053 0.66537468 0.69816273 0.52417582]\n",
            "\n",
            "Recall: [0.62305699 0.62424242 0.8228925  0.46718903]\n",
            "\n",
            "F1 score: [0.65220339 0.6441526  0.75541356 0.49404454]\n",
            "\n",
            "\n",
            "Feature Name:  TRIGRAME_PSSM.csv\n",
            "\n",
            "['d' 'd' 'd' ... 'd' 'd' 'b']\n",
            "[3 3 3 ... 3 3 1]\n",
            "[06:25:52] WARNING: ../src/learner.cc:1115: Starting in XGBoost 1.3.0, the default evaluation metric used with the objective 'multi:softprob' was changed from 'merror' to 'mlogloss'. Explicitly set eval_metric if you'd like to restore the old behavior.\n",
            "\n",
            "Classification report:\n",
            "               precision    recall  f1-score   support\n",
            "\n",
            "           0       0.83      0.81      0.82       772\n",
            "           1       0.79      0.84      0.81       825\n",
            "           2       0.85      0.88      0.86      1293\n",
            "           3       0.72      0.65      0.68      1021\n",
            "\n",
            "    accuracy                           0.80      3911\n",
            "   macro avg       0.80      0.80      0.80      3911\n",
            "weighted avg       0.80      0.80      0.80      3911\n",
            "\n",
            "Confusion matrix: \n",
            " [[ 629   22   46   75]\n",
            " [  15  694   26   90]\n",
            " [  33   28 1137   95]\n",
            " [  84  136  134  667]]\n",
            "\n",
            "\n",
            "Accuracy: 0.7995397596522629\n",
            "\n",
            "\n",
            "Precision: [0.82654402 0.78863636 0.84661206 0.71952535]\n",
            "\n",
            "Recall: [0.81476684 0.84121212 0.87935035 0.6532811 ]\n",
            "\n",
            "F1 score: [0.82061318 0.81407625 0.86267071 0.68480493]\n",
            "\n",
            "\n",
            "Feature Name:  combined_CS_PSE_MBMGAC.csv\n",
            "\n",
            "['d' 'd' 'd' ... 'd' 'd' 'b']\n",
            "[3 3 3 ... 3 3 1]\n",
            "[06:28:45] WARNING: ../src/learner.cc:1115: Starting in XGBoost 1.3.0, the default evaluation metric used with the objective 'multi:softprob' was changed from 'merror' to 'mlogloss'. Explicitly set eval_metric if you'd like to restore the old behavior.\n",
            "\n",
            "Classification report:\n",
            "               precision    recall  f1-score   support\n",
            "\n",
            "           0       0.88      0.88      0.88       772\n",
            "           1       0.81      0.87      0.84       825\n",
            "           2       0.90      0.90      0.90      1293\n",
            "           3       0.78      0.74      0.76      1021\n",
            "\n",
            "    accuracy                           0.85      3911\n",
            "   macro avg       0.84      0.85      0.85      3911\n",
            "weighted avg       0.85      0.85      0.85      3911\n",
            "\n",
            "Confusion matrix: \n",
            " [[ 681   10   25   56]\n",
            " [  10  721   13   81]\n",
            " [  19   34 1162   78]\n",
            " [  60  120   90  751]]\n",
            "\n",
            "\n",
            "Accuracy: 0.8476093070825875\n",
            "\n",
            "\n",
            "Precision: [0.88441558 0.81468927 0.90077519 0.77743271]\n",
            "\n",
            "Recall: [0.88212435 0.87393939 0.89868523 0.73555338]\n",
            "\n",
            "F1 score: [0.88326848 0.84327485 0.899729   0.75591344]\n",
            "\n",
            "\n",
            "Feature Name:  combined_pssm.csv\n",
            "\n",
            "['d' 'd' 'd' ... 'd' 'd' 'b']\n",
            "[3 3 3 ... 3 3 1]\n",
            "[06:30:22] WARNING: ../src/learner.cc:1115: Starting in XGBoost 1.3.0, the default evaluation metric used with the objective 'multi:softprob' was changed from 'merror' to 'mlogloss'. Explicitly set eval_metric if you'd like to restore the old behavior.\n",
            "\n",
            "Classification report:\n",
            "               precision    recall  f1-score   support\n",
            "\n",
            "           0       0.90      0.89      0.89       772\n",
            "           1       0.84      0.89      0.86       825\n",
            "           2       0.92      0.91      0.91      1293\n",
            "           3       0.79      0.76      0.77      1021\n",
            "\n",
            "    accuracy                           0.86      3911\n",
            "   macro avg       0.86      0.86      0.86      3911\n",
            "weighted avg       0.86      0.86      0.86      3911\n",
            "\n",
            "Confusion matrix: \n",
            " [[ 686    9   20   57]\n",
            " [  13  732    7   73]\n",
            " [  15   22 1175   81]\n",
            " [  52  111   81  777]]\n",
            "\n",
            "\n",
            "Accuracy: 0.8616722065967783\n",
            "\n",
            "\n",
            "Precision: [0.89556136 0.8375286  0.91582229 0.78643725]\n",
            "\n",
            "Recall: [0.88860104 0.88727273 0.90873937 0.76101861]\n",
            "\n",
            "F1 score: [0.89206762 0.86168334 0.91226708 0.77351916]\n"
          ]
        }
      ]
    },
    {
      "cell_type": "code",
      "source": [
        "import matplotlib.pyplot as plt"
      ],
      "metadata": {
        "id": "nyQvrT8fMVPK"
      },
      "execution_count": null,
      "outputs": []
    },
    {
      "cell_type": "code",
      "source": [
        "plt.bar(files, accuracy_scores, color ='orange',width = 0.2)"
      ],
      "metadata": {
        "colab": {
          "base_uri": "https://localhost:8080/",
          "height": 283
        },
        "id": "4LXe2zi8IY3H",
        "outputId": "eb20d148-4347-41ea-b6dc-9588da5b0a26"
      },
      "execution_count": null,
      "outputs": [
        {
          "output_type": "execute_result",
          "data": {
            "text/plain": [
              "<BarContainer object of 19 artists>"
            ]
          },
          "metadata": {},
          "execution_count": 13
        },
        {
          "output_type": "display_data",
          "data": {
            "image/png": "[encoded data removed]",
            "text/plain": [
              "<Figure size 432x288 with 1 Axes>"
            ]
          },
          "metadata": {
            "needs_background": "light"
          }
        }
      ]
    },
    {
      "cell_type": "code",
      "source": [
        "plt.plot(files,accuracy_scores)"
      ],
      "metadata": {
        "colab": {
          "base_uri": "https://localhost:8080/",
          "height": 283
        },
        "id": "jNYTmMfaIaP2",
        "outputId": "76835091-c2e6-4be5-db65-14b753e5a3cb"
      },
      "execution_count": null,
      "outputs": [
        {
          "output_type": "execute_result",
          "data": {
            "text/plain": [
              "[<matplotlib.lines.Line2D at 0x7fd667b430d0>]"
            ]
          },
          "metadata": {},
          "execution_count": 14
        },
        {
          "output_type": "display_data",
          "data": {
            "image/png": "[encoded data removed]",
            "text/plain": [
              "<Figure size 432x288 with 1 Axes>"
            ]
          },
          "metadata": {
            "needs_background": "light"
          }
        }
      ]
    },
    {
      "cell_type": "code",
      "source": [
        "plt.scatter(files,accuracy_scores)"
      ],
      "metadata": {
        "colab": {
          "base_uri": "https://localhost:8080/",
          "height": 283
        },
        "id": "4heStmSXI6cR",
        "outputId": "4366605c-2987-4ec4-e3b6-e338e0a67253"
      },
      "execution_count": null,
      "outputs": [
        {
          "output_type": "execute_result",
          "data": {
            "text/plain": [
              "<matplotlib.collections.PathCollection at 0x7fd6693e4f10>"
            ]
          },
          "metadata": {},
          "execution_count": 15
        },
        {
          "output_type": "display_data",
          "data": {
            "image/png": "[encoded data removed]",
            "text/plain": [
              "<Figure size 432x288 with 1 Axes>"
            ]
          },
          "metadata": {
            "needs_background": "light"
          }
        }
      ]
    },
    {
      "cell_type": "code",
      "source": [
        ""
      ],
      "metadata": {
        "id": "6rqRQu-uQx-t"
      },
      "execution_count": null,
      "outputs": []
    },
    {
      "cell_type": "code",
      "source": [
        ""
      ],
      "metadata": {
        "id": "bTMZ-vgdQx1x"
      },
      "execution_count": null,
      "outputs": []
    },
    {
      "cell_type": "code",
      "source": [
        "automation(['combined_pssm2.csv'])"
      ],
      "metadata": {
        "colab": {
          "base_uri": "https://localhost:8080/"
        },
        "id": "_VShyU9MQxob",
        "outputId": "6fe8e494-d265-4898-8c5c-273aa9a97887"
      },
      "execution_count": null,
      "outputs": [
        {
          "output_type": "stream",
          "name": "stdout",
          "text": [
            "\n",
            "\n",
            "Feature Name:  combined_pssm2.csv\n",
            "\n",
            "['d' 'd' 'd' ... 'd' 'd' 'b']\n",
            "[3 3 3 ... 3 3 1]\n",
            "[11:14:04] WARNING: ../src/learner.cc:1115: Starting in XGBoost 1.3.0, the default evaluation metric used with the objective 'multi:softprob' was changed from 'merror' to 'mlogloss'. Explicitly set eval_metric if you'd like to restore the old behavior.\n",
            "\n",
            "Classification report:\n",
            "               precision    recall  f1-score   support\n",
            "\n",
            "           0       0.88      0.87      0.88       772\n",
            "           1       0.84      0.89      0.86       825\n",
            "           2       0.92      0.91      0.91      1293\n",
            "           3       0.80      0.77      0.78      1021\n",
            "\n",
            "    accuracy                           0.86      3911\n",
            "   macro avg       0.86      0.86      0.86      3911\n",
            "weighted avg       0.86      0.86      0.86      3911\n",
            "\n",
            "Confusion matrix: \n",
            " [[ 674   14   25   59]\n",
            " [  13  736    8   68]\n",
            " [  18   23 1179   73]\n",
            " [  58  106   75  782]]\n",
            "\n",
            "\n",
            "Accuracy: 0.8619278956788545\n",
            "\n",
            "\n",
            "Precision: [0.88335518 0.83731513 0.91608392 0.79633401]\n",
            "\n",
            "Recall: [0.87305699 0.89212121 0.91183295 0.76591577]\n",
            "\n",
            "F1 score: [0.8781759  0.86384977 0.91395349 0.78082876]\n"
          ]
        }
      ]
    },
    {
      "cell_type": "code",
      "source": [
        "df=pd.read_csv('combined_pssm2.csv')\n",
        "df.info()"
      ],
      "metadata": {
        "colab": {
          "base_uri": "https://localhost:8080/"
        },
        "id": "2KCF_qXUR1jD",
        "outputId": "8708550a-69f8-4be1-fbe5-5e41967491b9"
      },
      "execution_count": null,
      "outputs": [
        {
          "output_type": "stream",
          "name": "stdout",
          "text": [
            "<class 'pandas.core.frame.DataFrame'>\n",
            "RangeIndex: 13035 entries, 0 to 13034\n",
            "Columns: 2501 entries, V1 to class\n",
            "dtypes: float64(2500), object(1)\n",
            "memory usage: 248.7+ MB\n"
          ]
        }
      ]
    },
    {
      "cell_type": "code",
      "source": [
        "df.tail()"
      ],
      "metadata": {
        "colab": {
          "base_uri": "https://localhost:8080/",
          "height": 299
        },
        "id": "I3LNYGg7TU--",
        "outputId": "7bdd63c0-eb2d-4457-8fe5-f2971cb00672"
      },
      "execution_count": null,
      "outputs": [
        {
          "output_type": "execute_result",
          "data": {
            "text/html": [
              "\n",
              "  <div id=\"df-91c4f785-5910-410a-8178-5969abc7d784\">\n",
              "    <div class=\"colab-df-container\">\n",
              "      <div>\n",
              "<style scoped>\n",
              "    .dataframe tbody tr th:only-of-type {\n",
              "        vertical-align: middle;\n",
              "    }\n",
              "\n",
              "    .dataframe tbody tr th {\n",
              "        vertical-align: top;\n",
              "    }\n",
              "\n",
              "    .dataframe thead th {\n",
              "        text-align: right;\n",
              "    }\n",
              "</style>\n",
              "<table border=\"1\" class=\"dataframe\">\n",
              "  <thead>\n",
              "    <tr style=\"text-align: right;\">\n",
              "      <th></th>\n",
              "      <th>V1</th>\n",
              "      <th>V2</th>\n",
              "      <th>V3</th>\n",
              "      <th>V4</th>\n",
              "      <th>V5</th>\n",
              "      <th>V6</th>\n",
              "      <th>V7</th>\n",
              "      <th>V8</th>\n",
              "      <th>V9</th>\n",
              "      <th>V10</th>\n",
              "      <th>V11</th>\n",
              "      <th>V12</th>\n",
              "      <th>V13</th>\n",
              "      <th>V14</th>\n",
              "      <th>V15</th>\n",
              "      <th>V16</th>\n",
              "      <th>V17</th>\n",
              "      <th>V18</th>\n",
              "      <th>V19</th>\n",
              "      <th>V20</th>\n",
              "      <th>V21</th>\n",
              "      <th>V22</th>\n",
              "      <th>V23</th>\n",
              "      <th>V24</th>\n",
              "      <th>V25</th>\n",
              "      <th>V26</th>\n",
              "      <th>V27</th>\n",
              "      <th>V28</th>\n",
              "      <th>V29</th>\n",
              "      <th>V30</th>\n",
              "      <th>V31</th>\n",
              "      <th>V32</th>\n",
              "      <th>V33</th>\n",
              "      <th>V34</th>\n",
              "      <th>V35</th>\n",
              "      <th>V36</th>\n",
              "      <th>V37</th>\n",
              "      <th>V38</th>\n",
              "      <th>V39</th>\n",
              "      <th>V40</th>\n",
              "      <th>...</th>\n",
              "      <th>V522</th>\n",
              "      <th>V523</th>\n",
              "      <th>V524</th>\n",
              "      <th>V525</th>\n",
              "      <th>V526</th>\n",
              "      <th>V527</th>\n",
              "      <th>V528</th>\n",
              "      <th>V529</th>\n",
              "      <th>V530</th>\n",
              "      <th>V531</th>\n",
              "      <th>V532</th>\n",
              "      <th>V533</th>\n",
              "      <th>V534</th>\n",
              "      <th>V535</th>\n",
              "      <th>V536</th>\n",
              "      <th>V537</th>\n",
              "      <th>V538</th>\n",
              "      <th>V539</th>\n",
              "      <th>V540</th>\n",
              "      <th>V541</th>\n",
              "      <th>V542</th>\n",
              "      <th>V543</th>\n",
              "      <th>V544</th>\n",
              "      <th>V545</th>\n",
              "      <th>V546</th>\n",
              "      <th>V547</th>\n",
              "      <th>V548</th>\n",
              "      <th>V549</th>\n",
              "      <th>V550</th>\n",
              "      <th>V551</th>\n",
              "      <th>V552</th>\n",
              "      <th>V553</th>\n",
              "      <th>V554</th>\n",
              "      <th>V555</th>\n",
              "      <th>V556</th>\n",
              "      <th>V557</th>\n",
              "      <th>V558</th>\n",
              "      <th>V559</th>\n",
              "      <th>V560</th>\n",
              "      <th>class</th>\n",
              "    </tr>\n",
              "  </thead>\n",
              "  <tbody>\n",
              "    <tr>\n",
              "      <th>13030</th>\n",
              "      <td>0.3654</td>\n",
              "      <td>0.5481</td>\n",
              "      <td>0.1346</td>\n",
              "      <td>0.5385</td>\n",
              "      <td>1.2212</td>\n",
              "      <td>0.1635</td>\n",
              "      <td>0.1442</td>\n",
              "      <td>0.6058</td>\n",
              "      <td>0.5577</td>\n",
              "      <td>0.9712</td>\n",
              "      <td>0.7596</td>\n",
              "      <td>0.1827</td>\n",
              "      <td>0.4808</td>\n",
              "      <td>1.0769</td>\n",
              "      <td>0.4808</td>\n",
              "      <td>-0.0962</td>\n",
              "      <td>0.3846</td>\n",
              "      <td>1.4712</td>\n",
              "      <td>0.9135</td>\n",
              "      <td>0.8077</td>\n",
              "      <td>0.4423</td>\n",
              "      <td>1.4615</td>\n",
              "      <td>1.5385</td>\n",
              "      <td>1.7404</td>\n",
              "      <td>1.8077</td>\n",
              "      <td>1.0000</td>\n",
              "      <td>0.8558</td>\n",
              "      <td>2.2500</td>\n",
              "      <td>1.9615</td>\n",
              "      <td>1.0192</td>\n",
              "      <td>0.9327</td>\n",
              "      <td>0.8558</td>\n",
              "      <td>0.5192</td>\n",
              "      <td>1.8365</td>\n",
              "      <td>1.6635</td>\n",
              "      <td>0.4808</td>\n",
              "      <td>0.3942</td>\n",
              "      <td>2.6827</td>\n",
              "      <td>1.7596</td>\n",
              "      <td>0.5577</td>\n",
              "      <td>...</td>\n",
              "      <td>12073.540</td>\n",
              "      <td>8324.661</td>\n",
              "      <td>9009.777</td>\n",
              "      <td>10367.794</td>\n",
              "      <td>10741.985</td>\n",
              "      <td>11347.963</td>\n",
              "      <td>11845.120</td>\n",
              "      <td>9894.210</td>\n",
              "      <td>9790.654</td>\n",
              "      <td>9604.034</td>\n",
              "      <td>9811.387</td>\n",
              "      <td>8249.689</td>\n",
              "      <td>11333.534</td>\n",
              "      <td>9068.364</td>\n",
              "      <td>11134.687</td>\n",
              "      <td>10944.832</td>\n",
              "      <td>10786.400</td>\n",
              "      <td>10444.737</td>\n",
              "      <td>10148.434</td>\n",
              "      <td>8691.373</td>\n",
              "      <td>10141.109</td>\n",
              "      <td>11572.973</td>\n",
              "      <td>9722.879</td>\n",
              "      <td>11612.456</td>\n",
              "      <td>9926.958</td>\n",
              "      <td>10667.882</td>\n",
              "      <td>10279.962</td>\n",
              "      <td>11277.469</td>\n",
              "      <td>8096.723</td>\n",
              "      <td>9646.457</td>\n",
              "      <td>9915.719</td>\n",
              "      <td>9176.061</td>\n",
              "      <td>10704.678</td>\n",
              "      <td>11398.771</td>\n",
              "      <td>10360.027</td>\n",
              "      <td>11108.060</td>\n",
              "      <td>11440.514</td>\n",
              "      <td>9073.175</td>\n",
              "      <td>9461.005</td>\n",
              "      <td>b</td>\n",
              "    </tr>\n",
              "    <tr>\n",
              "      <th>13031</th>\n",
              "      <td>1.1848</td>\n",
              "      <td>1.5638</td>\n",
              "      <td>1.4769</td>\n",
              "      <td>2.9390</td>\n",
              "      <td>3.4769</td>\n",
              "      <td>2.3142</td>\n",
              "      <td>2.5730</td>\n",
              "      <td>1.2902</td>\n",
              "      <td>1.6839</td>\n",
              "      <td>3.4455</td>\n",
              "      <td>3.1460</td>\n",
              "      <td>1.9963</td>\n",
              "      <td>2.6636</td>\n",
              "      <td>2.8447</td>\n",
              "      <td>3.0092</td>\n",
              "      <td>1.0074</td>\n",
              "      <td>1.7468</td>\n",
              "      <td>3.1701</td>\n",
              "      <td>2.5102</td>\n",
              "      <td>3.0813</td>\n",
              "      <td>2.1738</td>\n",
              "      <td>8.1054</td>\n",
              "      <td>6.4325</td>\n",
              "      <td>8.6599</td>\n",
              "      <td>9.4399</td>\n",
              "      <td>6.8189</td>\n",
              "      <td>7.7468</td>\n",
              "      <td>6.3272</td>\n",
              "      <td>7.0518</td>\n",
              "      <td>6.5915</td>\n",
              "      <td>7.2255</td>\n",
              "      <td>7.7819</td>\n",
              "      <td>5.6081</td>\n",
              "      <td>8.3327</td>\n",
              "      <td>9.5360</td>\n",
              "      <td>3.7708</td>\n",
              "      <td>4.0296</td>\n",
              "      <td>11.1590</td>\n",
              "      <td>8.2865</td>\n",
              "      <td>5.7579</td>\n",
              "      <td>...</td>\n",
              "      <td>285189.563</td>\n",
              "      <td>270210.377</td>\n",
              "      <td>284524.032</td>\n",
              "      <td>285760.470</td>\n",
              "      <td>289639.180</td>\n",
              "      <td>279030.201</td>\n",
              "      <td>291426.924</td>\n",
              "      <td>281617.029</td>\n",
              "      <td>297360.561</td>\n",
              "      <td>289209.756</td>\n",
              "      <td>303970.588</td>\n",
              "      <td>305222.932</td>\n",
              "      <td>263991.587</td>\n",
              "      <td>312918.132</td>\n",
              "      <td>274252.516</td>\n",
              "      <td>289423.875</td>\n",
              "      <td>286208.487</td>\n",
              "      <td>250260.180</td>\n",
              "      <td>258445.318</td>\n",
              "      <td>279113.099</td>\n",
              "      <td>303599.930</td>\n",
              "      <td>277476.759</td>\n",
              "      <td>295937.265</td>\n",
              "      <td>286764.545</td>\n",
              "      <td>269295.107</td>\n",
              "      <td>299847.814</td>\n",
              "      <td>262075.343</td>\n",
              "      <td>272063.211</td>\n",
              "      <td>273705.950</td>\n",
              "      <td>291340.219</td>\n",
              "      <td>262958.914</td>\n",
              "      <td>285735.507</td>\n",
              "      <td>307587.675</td>\n",
              "      <td>299389.564</td>\n",
              "      <td>316437.921</td>\n",
              "      <td>294029.876</td>\n",
              "      <td>288840.762</td>\n",
              "      <td>287647.980</td>\n",
              "      <td>303895.461</td>\n",
              "      <td>d</td>\n",
              "    </tr>\n",
              "    <tr>\n",
              "      <th>13032</th>\n",
              "      <td>-1.1078</td>\n",
              "      <td>0.8627</td>\n",
              "      <td>0.8627</td>\n",
              "      <td>1.2255</td>\n",
              "      <td>1.7255</td>\n",
              "      <td>0.2451</td>\n",
              "      <td>1.0294</td>\n",
              "      <td>0.6765</td>\n",
              "      <td>0.3824</td>\n",
              "      <td>0.9706</td>\n",
              "      <td>1.2059</td>\n",
              "      <td>0.4804</td>\n",
              "      <td>1.4804</td>\n",
              "      <td>1.5588</td>\n",
              "      <td>0.2353</td>\n",
              "      <td>-0.5294</td>\n",
              "      <td>0.2157</td>\n",
              "      <td>2.9706</td>\n",
              "      <td>0.4216</td>\n",
              "      <td>0.5686</td>\n",
              "      <td>1.4804</td>\n",
              "      <td>3.0098</td>\n",
              "      <td>4.9804</td>\n",
              "      <td>4.7353</td>\n",
              "      <td>6.2843</td>\n",
              "      <td>2.7059</td>\n",
              "      <td>3.1961</td>\n",
              "      <td>6.5490</td>\n",
              "      <td>4.1961</td>\n",
              "      <td>1.7353</td>\n",
              "      <td>2.7451</td>\n",
              "      <td>3.2255</td>\n",
              "      <td>2.9314</td>\n",
              "      <td>4.6176</td>\n",
              "      <td>4.1373</td>\n",
              "      <td>3.0196</td>\n",
              "      <td>2.0980</td>\n",
              "      <td>7.1863</td>\n",
              "      <td>4.0098</td>\n",
              "      <td>1.3725</td>\n",
              "      <td>...</td>\n",
              "      <td>9383.070</td>\n",
              "      <td>8895.248</td>\n",
              "      <td>7725.012</td>\n",
              "      <td>9000.746</td>\n",
              "      <td>9148.814</td>\n",
              "      <td>9804.565</td>\n",
              "      <td>7810.699</td>\n",
              "      <td>9347.173</td>\n",
              "      <td>8952.810</td>\n",
              "      <td>9252.000</td>\n",
              "      <td>9572.844</td>\n",
              "      <td>9863.918</td>\n",
              "      <td>11063.819</td>\n",
              "      <td>10172.950</td>\n",
              "      <td>9611.596</td>\n",
              "      <td>10256.145</td>\n",
              "      <td>8807.302</td>\n",
              "      <td>8563.792</td>\n",
              "      <td>8221.450</td>\n",
              "      <td>7630.566</td>\n",
              "      <td>7724.258</td>\n",
              "      <td>10075.549</td>\n",
              "      <td>9068.439</td>\n",
              "      <td>11393.996</td>\n",
              "      <td>10420.071</td>\n",
              "      <td>9136.098</td>\n",
              "      <td>8969.857</td>\n",
              "      <td>8553.755</td>\n",
              "      <td>9134.992</td>\n",
              "      <td>8200.230</td>\n",
              "      <td>10471.817</td>\n",
              "      <td>8660.796</td>\n",
              "      <td>10948.821</td>\n",
              "      <td>11523.082</td>\n",
              "      <td>11647.923</td>\n",
              "      <td>9441.705</td>\n",
              "      <td>9310.609</td>\n",
              "      <td>8159.080</td>\n",
              "      <td>8141.003</td>\n",
              "      <td>d</td>\n",
              "    </tr>\n",
              "    <tr>\n",
              "      <th>13033</th>\n",
              "      <td>-1.3900</td>\n",
              "      <td>0.6900</td>\n",
              "      <td>0.4500</td>\n",
              "      <td>1.4400</td>\n",
              "      <td>1.7000</td>\n",
              "      <td>0.5700</td>\n",
              "      <td>0.8200</td>\n",
              "      <td>0.8800</td>\n",
              "      <td>0.3700</td>\n",
              "      <td>1.9300</td>\n",
              "      <td>1.8400</td>\n",
              "      <td>0.4500</td>\n",
              "      <td>1.1300</td>\n",
              "      <td>1.5400</td>\n",
              "      <td>0.7300</td>\n",
              "      <td>-0.2600</td>\n",
              "      <td>0.2500</td>\n",
              "      <td>2.6000</td>\n",
              "      <td>0.6200</td>\n",
              "      <td>0.8800</td>\n",
              "      <td>1.2300</td>\n",
              "      <td>2.4500</td>\n",
              "      <td>4.3000</td>\n",
              "      <td>4.3200</td>\n",
              "      <td>6.4000</td>\n",
              "      <td>2.3200</td>\n",
              "      <td>2.5200</td>\n",
              "      <td>5.8000</td>\n",
              "      <td>3.6100</td>\n",
              "      <td>2.3900</td>\n",
              "      <td>3.1100</td>\n",
              "      <td>2.3700</td>\n",
              "      <td>3.9200</td>\n",
              "      <td>5.0200</td>\n",
              "      <td>3.6200</td>\n",
              "      <td>3.0300</td>\n",
              "      <td>2.4200</td>\n",
              "      <td>7.2400</td>\n",
              "      <td>4.1600</td>\n",
              "      <td>1.7000</td>\n",
              "      <td>...</td>\n",
              "      <td>9511.905</td>\n",
              "      <td>7564.112</td>\n",
              "      <td>5991.858</td>\n",
              "      <td>9267.087</td>\n",
              "      <td>8277.213</td>\n",
              "      <td>10437.879</td>\n",
              "      <td>7109.106</td>\n",
              "      <td>9173.084</td>\n",
              "      <td>8229.919</td>\n",
              "      <td>9244.719</td>\n",
              "      <td>8614.721</td>\n",
              "      <td>9604.695</td>\n",
              "      <td>9501.081</td>\n",
              "      <td>9808.890</td>\n",
              "      <td>8292.907</td>\n",
              "      <td>9639.898</td>\n",
              "      <td>8867.434</td>\n",
              "      <td>7694.812</td>\n",
              "      <td>7912.598</td>\n",
              "      <td>6797.708</td>\n",
              "      <td>7622.866</td>\n",
              "      <td>8815.197</td>\n",
              "      <td>8374.518</td>\n",
              "      <td>10476.970</td>\n",
              "      <td>9327.930</td>\n",
              "      <td>9001.186</td>\n",
              "      <td>8467.499</td>\n",
              "      <td>8537.783</td>\n",
              "      <td>8385.003</td>\n",
              "      <td>7877.795</td>\n",
              "      <td>10565.884</td>\n",
              "      <td>8806.434</td>\n",
              "      <td>10773.072</td>\n",
              "      <td>10456.661</td>\n",
              "      <td>11102.445</td>\n",
              "      <td>8963.299</td>\n",
              "      <td>8891.549</td>\n",
              "      <td>7769.568</td>\n",
              "      <td>7952.767</td>\n",
              "      <td>d</td>\n",
              "    </tr>\n",
              "    <tr>\n",
              "      <th>13034</th>\n",
              "      <td>0.2966</td>\n",
              "      <td>0.6949</td>\n",
              "      <td>0.7288</td>\n",
              "      <td>0.8136</td>\n",
              "      <td>0.9492</td>\n",
              "      <td>0.4237</td>\n",
              "      <td>0.5000</td>\n",
              "      <td>1.5000</td>\n",
              "      <td>1.0508</td>\n",
              "      <td>0.0254</td>\n",
              "      <td>0.1610</td>\n",
              "      <td>0.5424</td>\n",
              "      <td>0.1017</td>\n",
              "      <td>0.9407</td>\n",
              "      <td>1.0763</td>\n",
              "      <td>0.2881</td>\n",
              "      <td>-0.1610</td>\n",
              "      <td>1.7288</td>\n",
              "      <td>0.8559</td>\n",
              "      <td>-0.0932</td>\n",
              "      <td>0.9153</td>\n",
              "      <td>1.6864</td>\n",
              "      <td>0.1949</td>\n",
              "      <td>0.8390</td>\n",
              "      <td>2.5339</td>\n",
              "      <td>0.2542</td>\n",
              "      <td>0.7881</td>\n",
              "      <td>2.1864</td>\n",
              "      <td>1.9407</td>\n",
              "      <td>1.1356</td>\n",
              "      <td>1.7034</td>\n",
              "      <td>1.0508</td>\n",
              "      <td>0.8983</td>\n",
              "      <td>2.6864</td>\n",
              "      <td>2.5085</td>\n",
              "      <td>0.1780</td>\n",
              "      <td>-0.4746</td>\n",
              "      <td>4.0678</td>\n",
              "      <td>2.2881</td>\n",
              "      <td>0.6949</td>\n",
              "      <td>...</td>\n",
              "      <td>14905.406</td>\n",
              "      <td>12894.636</td>\n",
              "      <td>12586.903</td>\n",
              "      <td>14565.620</td>\n",
              "      <td>12991.503</td>\n",
              "      <td>14405.129</td>\n",
              "      <td>14284.313</td>\n",
              "      <td>13785.671</td>\n",
              "      <td>14268.792</td>\n",
              "      <td>13302.212</td>\n",
              "      <td>13332.044</td>\n",
              "      <td>12749.355</td>\n",
              "      <td>14627.757</td>\n",
              "      <td>11696.120</td>\n",
              "      <td>14792.451</td>\n",
              "      <td>13010.033</td>\n",
              "      <td>12525.477</td>\n",
              "      <td>13947.020</td>\n",
              "      <td>12673.456</td>\n",
              "      <td>13955.177</td>\n",
              "      <td>11890.624</td>\n",
              "      <td>15401.463</td>\n",
              "      <td>11058.269</td>\n",
              "      <td>14172.514</td>\n",
              "      <td>13584.986</td>\n",
              "      <td>12807.883</td>\n",
              "      <td>14722.963</td>\n",
              "      <td>12748.542</td>\n",
              "      <td>13805.162</td>\n",
              "      <td>12068.708</td>\n",
              "      <td>12158.411</td>\n",
              "      <td>14458.614</td>\n",
              "      <td>16017.375</td>\n",
              "      <td>15627.743</td>\n",
              "      <td>14401.645</td>\n",
              "      <td>13713.625</td>\n",
              "      <td>13803.527</td>\n",
              "      <td>12025.509</td>\n",
              "      <td>11144.905</td>\n",
              "      <td>b</td>\n",
              "    </tr>\n",
              "  </tbody>\n",
              "</table>\n",
              "<p>5 rows × 2501 columns</p>\n",
              "</div>\n",
              "      <button class=\"colab-df-convert\" onclick=\"convertToInteractive('df-91c4f785-5910-410a-8178-5969abc7d784')\"\n",
              "              title=\"Convert this dataframe to an interactive table.\"\n",
              "              style=\"display:none;\">\n",
              "        \n",
              "  <svg xmlns=\"http://www.w3.org/2000/svg\" height=\"24px\"viewBox=\"0 0 24 24\"\n",
              "       width=\"24px\">\n",
              "    <path d=\"M0 0h24v24H0V0z\" fill=\"none\"/>\n",
              "    <path d=\"M18.56 5.44l.94 2.06.94-2.06 2.06-.94-2.06-.94-.94-2.06-.94 2.06-2.06.94zm-11 1L8.5 8.5l.94-2.06 2.06-.94-2.06-.94L8.5 2.5l-.94 2.06-2.06.94zm10 10l.94 2.06.94-2.06 2.06-.94-2.06-.94-.94-2.06-.94 2.06-2.06.94z\"/><path d=\"M17.41 7.96l-1.37-1.37c-.4-.4-.92-.59-1.43-.59-.52 0-1.04.2-1.43.59L10.3 9.45l-7.72 7.72c-.78.78-.78 2.05 0 2.83L4 21.41c.39.39.9.59 1.41.59.51 0 1.02-.2 1.41-.59l7.78-7.78 2.81-2.81c.8-.78.8-2.07 0-2.86zM5.41 20L4 18.59l7.72-7.72 1.47 1.35L5.41 20z\"/>\n",
              "  </svg>\n",
              "      </button>\n",
              "      \n",
              "  <style>\n",
              "    .colab-df-container {\n",
              "      display:flex;\n",
              "      flex-wrap:wrap;\n",
              "      gap: 12px;\n",
              "    }\n",
              "\n",
              "    .colab-df-convert {\n",
              "      background-color: #E8F0FE;\n",
              "      border: none;\n",
              "      border-radius: 50%;\n",
              "      cursor: pointer;\n",
              "      display: none;\n",
              "      fill: #1967D2;\n",
              "      height: 32px;\n",
              "      padding: 0 0 0 0;\n",
              "      width: 32px;\n",
              "    }\n",
              "\n",
              "    .colab-df-convert:hover {\n",
              "      background-color: #E2EBFA;\n",
              "      box-shadow: 0px 1px 2px rgba(60, 64, 67, 0.3), 0px 1px 3px 1px rgba(60, 64, 67, 0.15);\n",
              "      fill: #174EA6;\n",
              "    }\n",
              "\n",
              "    [theme=dark] .colab-df-convert {\n",
              "      background-color: #3B4455;\n",
              "      fill: #D2E3FC;\n",
              "    }\n",
              "\n",
              "    [theme=dark] .colab-df-convert:hover {\n",
              "      background-color: #434B5C;\n",
              "      box-shadow: 0px 1px 3px 1px rgba(0, 0, 0, 0.15);\n",
              "      filter: drop-shadow(0px 1px 2px rgba(0, 0, 0, 0.3));\n",
              "      fill: #FFFFFF;\n",
              "    }\n",
              "  </style>\n",
              "\n",
              "      <script>\n",
              "        const buttonEl =\n",
              "          document.querySelector('#df-91c4f785-5910-410a-8178-5969abc7d784 button.colab-df-convert');\n",
              "        buttonEl.style.display =\n",
              "          google.colab.kernel.accessAllowed ? 'block' : 'none';\n",
              "\n",
              "        async function convertToInteractive(key) {\n",
              "          const element = document.querySelector('#df-91c4f785-5910-410a-8178-5969abc7d784');\n",
              "          const dataTable =\n",
              "            await google.colab.kernel.invokeFunction('convertToInteractive',\n",
              "                                                     [key], {});\n",
              "          if (!dataTable) return;\n",
              "\n",
              "          const docLinkHtml = 'Like what you see? Visit the ' +\n",
              "            '<a target=\"_blank\" href=https://colab.research.google.com/notebooks/data_table.ipynb>data table notebook</a>'\n",
              "            + ' to learn more about interactive tables.';\n",
              "          element.innerHTML = '';\n",
              "          dataTable['output_type'] = 'display_data';\n",
              "          await google.colab.output.renderOutput(dataTable, element);\n",
              "          const docLink = document.createElement('div');\n",
              "          docLink.innerHTML = docLinkHtml;\n",
              "          element.appendChild(docLink);\n",
              "        }\n",
              "      </script>\n",
              "    </div>\n",
              "  </div>\n",
              "  "
            ],
            "text/plain": [
              "           V1      V2      V3  ...        V559        V560  class\n",
              "13030  0.3654  0.5481  0.1346  ...    9073.175    9461.005      b\n",
              "13031  1.1848  1.5638  1.4769  ...  287647.980  303895.461      d\n",
              "13032 -1.1078  0.8627  0.8627  ...    8159.080    8141.003      d\n",
              "13033 -1.3900  0.6900  0.4500  ...    7769.568    7952.767      d\n",
              "13034  0.2966  0.6949  0.7288  ...   12025.509   11144.905      b\n",
              "\n",
              "[5 rows x 2501 columns]"
            ]
          },
          "metadata": {},
          "execution_count": 12
        }
      ]
    },
    {
      "cell_type": "code",
      "source": [
        ""
      ],
      "metadata": {
        "id": "uIna54qIUMGB"
      },
      "execution_count": null,
      "outputs": []
    },
    {
      "cell_type": "markdown",
      "source": [
        "#Savinfg model in pickle file\n"
      ],
      "metadata": {
        "id": "OXxWV_RjQxS3"
      }
    },
    {
      "cell_type": "code",
      "source": [
        ""
      ],
      "metadata": {
        "id": "akU01GWGkx7x"
      },
      "execution_count": null,
      "outputs": []
    },
    {
      "cell_type": "code",
      "source": [
        "def saveModel(data):\n",
        "  X= data.iloc[:,:-1].values\n",
        "  y= data.iloc[:,-1].values\n",
        "  le = LabelEncoder()\n",
        "  print(y)\n",
        "  y= le.fit_transform(y) \n",
        "  print(y)\n",
        "\n",
        "  X_train, X_test, y_train, y_test = train_test_split(X, y, test_size = 0.30, random_state = 5)\n",
        "\n",
        "  model = XGBClassifier(tree_method='gpu_hist',use_label_encoder=False)\n",
        "  model.fit(X_train, y_train)\n",
        "  pickle.dump(model, open('model.pkl','wb'))\n",
        "\n",
        "  y_pred = model.predict(X_test)\n",
        "\n",
        "  print('\\nClassification report:\\n', classification_report(y_test,y_pred))\n",
        "  print('Confusion matrix: \\n', confusion_matrix(y_test,y_pred))\n",
        "\n",
        "  accuracy = accuracy_score(y_test,y_pred)\n",
        "  accuracy_scores.append(accuracy)\n",
        "  print(\"\\n\\nAccuracy:\",accuracy_score(y_test, y_pred))\n",
        "\n",
        "  print(\"\\n\\nPrecision:\",precision_score(y_test, y_pred, average=None))\n",
        "  print(\"\\nRecall:\",recall_score(y_test, y_pred, average=None))\n",
        "  print(\"\\nF1 score:\",f1_score(y_test, y_pred, average=None))"
      ],
      "metadata": {
        "id": "UweQGfy3Qw0l"
      },
      "execution_count": null,
      "outputs": []
    },
    {
      "cell_type": "code",
      "source": [
        "df=pd.read_csv('combined_pssm2.csv')\n"
      ],
      "metadata": {
        "id": "qhaNNW1TR6Y2"
      },
      "execution_count": null,
      "outputs": []
    },
    {
      "cell_type": "code",
      "source": [
        "X= df.iloc[:,:-1]\n",
        "y= df.iloc[:,-1]"
      ],
      "metadata": {
        "id": "i1dXpEjtR-sA"
      },
      "execution_count": null,
      "outputs": []
    },
    {
      "cell_type": "code",
      "source": [
        "load_model=pickle.load(open(\"model.pkl\",\"rb\"))\n",
        "print(load_model)"
      ],
      "metadata": {
        "colab": {
          "base_uri": "https://localhost:8080/"
        },
        "id": "Yn1BBZY4k8AA",
        "outputId": "7a1b2e25-76ee-4f5b-a0e0-5667959aa7bb"
      },
      "execution_count": null,
      "outputs": [
        {
          "output_type": "stream",
          "name": "stdout",
          "text": [
            "XGBClassifier(base_score=0.5, booster='gbtree', colsample_bylevel=1,\n",
            "              colsample_bynode=1, colsample_bytree=1, enable_categorical=False,\n",
            "              gamma=0, gpu_id=0, importance_type=None,\n",
            "              interaction_constraints='', learning_rate=0.300000012,\n",
            "              max_delta_step=0, max_depth=6, min_child_weight=1, missing=nan,\n",
            "              monotone_constraints='()', n_estimators=100, n_jobs=2,\n",
            "              num_parallel_tree=1, objective='multi:softprob', predictor='auto',\n",
            "              random_state=0, reg_alpha=0, reg_lambda=1, scale_pos_weight=None,\n",
            "              subsample=1, tree_method='gpu_hist', use_label_encoder=False,\n",
            "              validate_parameters=1, verbosity=None)\n"
          ]
        }
      ]
    },
    {
      "cell_type": "code",
      "source": [
        "df.iloc[0,:-1].values"
      ],
      "metadata": {
        "colab": {
          "base_uri": "https://localhost:8080/"
        },
        "id": "uKy1rEB3mXQ9",
        "outputId": "94132488-6463-4e5b-faea-0e5d4286ccd0"
      },
      "execution_count": null,
      "outputs": [
        {
          "output_type": "execute_result",
          "data": {
            "text/plain": [
              "array([0.9877, 0.7669, 0.7147, ..., 94187.106, 96137.087, 101893.312],\n",
              "      dtype=object)"
            ]
          },
          "metadata": {},
          "execution_count": 18
        }
      ]
    },
    {
      "cell_type": "code",
      "source": [
        "  X= df.iloc[:,:-1]\n",
        "  y= df.iloc[:,-1]\n",
        "  print(X)\n",
        "  print(y)"
      ],
      "metadata": {
        "colab": {
          "base_uri": "https://localhost:8080/"
        },
        "id": "5bsC2ZJznWl5",
        "outputId": "b9cb48d0-485f-4d41-98ee-1c585437f453"
      },
      "execution_count": null,
      "outputs": [
        {
          "output_type": "stream",
          "name": "stdout",
          "text": [
            "           V1      V2      V3      V4      V5      V6      V7      V8      V9  \\\n",
            "0      0.9877  0.7669  0.7147  0.7791  2.3712  0.4663  0.5644  1.5337  1.0644   \n",
            "1      0.1183  0.4592  0.4479  0.5577  0.4423  0.2789  0.3775  0.6761  0.6141   \n",
            "2      0.6753  0.9351  1.0390  1.8442  0.5844  0.8182  1.0649  1.6623  0.9870   \n",
            "3     -0.0625  0.4167  0.7083  0.6771  0.5104  0.1042  0.3021  0.2708  0.9688   \n",
            "4      2.0909  4.2576  4.5606  5.7576  4.9848  3.6364  4.7273  4.2121  5.4242   \n",
            "...       ...     ...     ...     ...     ...     ...     ...     ...     ...   \n",
            "13030  0.3654  0.5481  0.1346  0.5385  1.2212  0.1635  0.1442  0.6058  0.5577   \n",
            "13031  1.1848  1.5638  1.4769  2.9390  3.4769  2.3142  2.5730  1.2902  1.6839   \n",
            "13032 -1.1078  0.8627  0.8627  1.2255  1.7255  0.2451  1.0294  0.6765  0.3824   \n",
            "13033 -1.3900  0.6900  0.4500  1.4400  1.7000  0.5700  0.8200  0.8800  0.3700   \n",
            "13034  0.2966  0.6949  0.7288  0.8136  0.9492  0.4237  0.5000  1.5000  1.0508   \n",
            "\n",
            "          V10  ...        V551        V552        V553        V554  \\\n",
            "0      2.1135  ...   95877.142  114070.624  108091.136  114669.085   \n",
            "1      0.2000  ...  120356.604  137325.433  131197.669  135505.009   \n",
            "2      0.0649  ...    4743.110    5949.595    5316.943    5636.386   \n",
            "3      0.3125  ...    7587.045    8391.055    8743.541    7549.078   \n",
            "4      3.4697  ...    3082.977    4683.468    4057.229    4114.765   \n",
            "...       ...  ...         ...         ...         ...         ...   \n",
            "13030  0.9712  ...    9646.457    9915.719    9176.061   10704.678   \n",
            "13031  3.4455  ...  291340.219  262958.914  285735.507  307587.675   \n",
            "13032  0.9706  ...    8200.230   10471.817    8660.796   10948.821   \n",
            "13033  1.9300  ...    7877.795   10565.884    8806.434   10773.072   \n",
            "13034  0.0254  ...   12068.708   12158.411   14458.614   16017.375   \n",
            "\n",
            "             V555        V556        V557        V558        V559        V560  \n",
            "0       99283.599  108429.814   99375.890   94187.106   96137.087  101893.312  \n",
            "1      117565.612  127873.474  123841.017  118688.798  118811.827  133332.085  \n",
            "2        5225.542    6527.143    5140.157    5661.591    5220.387    4293.378  \n",
            "3        9642.123    9897.976    8942.383    9205.542    9950.298    7470.748  \n",
            "4        3349.771    4024.599    4237.269    3284.416    3987.280    3333.758  \n",
            "...           ...         ...         ...         ...         ...         ...  \n",
            "13030   11398.771   10360.027   11108.060   11440.514    9073.175    9461.005  \n",
            "13031  299389.564  316437.921  294029.876  288840.762  287647.980  303895.461  \n",
            "13032   11523.082   11647.923    9441.705    9310.609    8159.080    8141.003  \n",
            "13033   10456.661   11102.445    8963.299    8891.549    7769.568    7952.767  \n",
            "13034   15627.743   14401.645   13713.625   13803.527   12025.509   11144.905  \n",
            "\n",
            "[13035 rows x 2500 columns]\n",
            "0        d\n",
            "1        d\n",
            "2        d\n",
            "3        d\n",
            "4        a\n",
            "        ..\n",
            "13030    b\n",
            "13031    d\n",
            "13032    d\n",
            "13033    d\n",
            "13034    b\n",
            "Name: class, Length: 13035, dtype: object\n"
          ]
        }
      ]
    },
    {
      "cell_type": "code",
      "source": [
        "le = LabelEncoder()\n",
        "print(y)\n",
        "y= le.fit_transform(y) \n",
        "print(y)\n",
        "\n",
        "X_train, X_test, y_train, y_test = train_test_split(X, y, test_size = 0.30, random_state = 5)\n",
        "\n",
        "model = XGBClassifier(tree_method='gpu_hist',use_label_encoder=False)"
      ],
      "metadata": {
        "colab": {
          "base_uri": "https://localhost:8080/"
        },
        "id": "2kiBeQ6cnmA8",
        "outputId": "662bc27d-582d-4b70-fe20-1cd7cecc8772"
      },
      "execution_count": null,
      "outputs": [
        {
          "output_type": "stream",
          "name": "stdout",
          "text": [
            "0        d\n",
            "1        d\n",
            "2        d\n",
            "3        d\n",
            "4        a\n",
            "        ..\n",
            "13030    b\n",
            "13031    d\n",
            "13032    d\n",
            "13033    d\n",
            "13034    b\n",
            "Name: class, Length: 13035, dtype: object\n",
            "[3 3 3 ... 3 3 1]\n"
          ]
        }
      ]
    },
    {
      "cell_type": "code",
      "source": [
        "X_train.shape"
      ],
      "metadata": {
        "colab": {
          "base_uri": "https://localhost:8080/"
        },
        "id": "Tc_ahJx4nl9E",
        "outputId": "c2f925d1-05c8-4c57-cead-7caede8e5649"
      },
      "execution_count": null,
      "outputs": [
        {
          "output_type": "execute_result",
          "data": {
            "text/plain": [
              "(9124, 2500)"
            ]
          },
          "metadata": {},
          "execution_count": 57
        }
      ]
    },
    {
      "cell_type": "code",
      "source": [
        "model.fit(X_train, y_train)"
      ],
      "metadata": {
        "colab": {
          "base_uri": "https://localhost:8080/"
        },
        "id": "9vbrk62ynlzN",
        "outputId": "1d858770-f0a8-4ee9-db7d-1726dac3707d"
      },
      "execution_count": null,
      "outputs": [
        {
          "output_type": "stream",
          "name": "stdout",
          "text": [
            "[16:15:14] WARNING: ../src/learner.cc:1115: Starting in XGBoost 1.3.0, the default evaluation metric used with the objective 'multi:softprob' was changed from 'merror' to 'mlogloss'. Explicitly set eval_metric if you'd like to restore the old behavior.\n"
          ]
        },
        {
          "output_type": "execute_result",
          "data": {
            "text/plain": [
              "XGBClassifier(base_score=0.5, booster='gbtree', colsample_bylevel=1,\n",
              "              colsample_bynode=1, colsample_bytree=1, enable_categorical=False,\n",
              "              gamma=0, gpu_id=0, importance_type=None,\n",
              "              interaction_constraints='', learning_rate=0.300000012,\n",
              "              max_delta_step=0, max_depth=6, min_child_weight=1, missing=nan,\n",
              "              monotone_constraints='()', n_estimators=100, n_jobs=2,\n",
              "              num_parallel_tree=1, objective='multi:softprob', predictor='auto',\n",
              "              random_state=0, reg_alpha=0, reg_lambda=1, scale_pos_weight=None,\n",
              "              subsample=1, tree_method='gpu_hist', use_label_encoder=False,\n",
              "              validate_parameters=1, verbosity=None)"
            ]
          },
          "metadata": {},
          "execution_count": 58
        }
      ]
    },
    {
      "cell_type": "code",
      "source": [
        " y_pred = model.predict(X_test)\n",
        "\n",
        "print('\\nClassification report:\\n', classification_report(y_test,y_pred))\n",
        "print('Confusion matrix: \\n', confusion_matrix(y_test,y_pred))\n",
        "\n",
        "accuracy = accuracy_score(y_test,y_pred)\n",
        "accuracy_scores.append(accuracy)\n",
        "print(\"\\n\\nAccuracy:\",accuracy_score(y_test, y_pred))\n",
        "\n",
        "print(\"\\n\\nPrecision:\",precision_score(y_test, y_pred, average=None))\n",
        "print(\"\\nRecall:\",recall_score(y_test, y_pred, average=None))\n",
        "print(\"\\nF1 score:\",f1_score(y_test, y_pred, average=None))"
      ],
      "metadata": {
        "colab": {
          "base_uri": "https://localhost:8080/"
        },
        "id": "MFxkxCT7t4Ah",
        "outputId": "8d4b77f1-3ecc-4618-c176-04772b97c371"
      },
      "execution_count": null,
      "outputs": [
        {
          "output_type": "stream",
          "name": "stdout",
          "text": [
            "\n",
            "Classification report:\n",
            "               precision    recall  f1-score   support\n",
            "\n",
            "           0       0.88      0.87      0.88       772\n",
            "           1       0.84      0.89      0.86       825\n",
            "           2       0.92      0.91      0.91      1293\n",
            "           3       0.80      0.77      0.78      1021\n",
            "\n",
            "    accuracy                           0.86      3911\n",
            "   macro avg       0.86      0.86      0.86      3911\n",
            "weighted avg       0.86      0.86      0.86      3911\n",
            "\n",
            "Confusion matrix: \n",
            " [[ 674   14   25   59]\n",
            " [  13  736    8   68]\n",
            " [  18   23 1179   73]\n",
            " [  58  106   75  782]]\n",
            "\n",
            "\n",
            "Accuracy: 0.8619278956788545\n",
            "\n",
            "\n",
            "Precision: [0.88335518 0.83731513 0.91608392 0.79633401]\n",
            "\n",
            "Recall: [0.87305699 0.89212121 0.91183295 0.76591577]\n",
            "\n",
            "F1 score: [0.8781759  0.86384977 0.91395349 0.78082876]\n"
          ]
        }
      ]
    },
    {
      "cell_type": "code",
      "source": [
        "pickle.dump(model, open(\"model.dat\", \"wb\"))"
      ],
      "metadata": {
        "id": "dR9k2zsPtrnr"
      },
      "execution_count": null,
      "outputs": []
    },
    {
      "cell_type": "code",
      "source": [
        "load_model = pickle.load(open(\"model.dat\",\"rb\"))\n",
        "print(load_model)"
      ],
      "metadata": {
        "colab": {
          "base_uri": "https://localhost:8080/"
        },
        "id": "GfPfzIvGuHmb",
        "outputId": "19b5e494-61c5-48cc-87bb-02ac44cf20a1"
      },
      "execution_count": null,
      "outputs": [
        {
          "output_type": "stream",
          "name": "stdout",
          "text": [
            "XGBClassifier(base_score=0.5, booster='gbtree', colsample_bylevel=1,\n",
            "              colsample_bynode=1, colsample_bytree=1, enable_categorical=False,\n",
            "              gamma=0, gpu_id=0, importance_type=None,\n",
            "              interaction_constraints='', learning_rate=0.300000012,\n",
            "              max_delta_step=0, max_depth=6, min_child_weight=1, missing=nan,\n",
            "              monotone_constraints='()', n_estimators=100, n_jobs=2,\n",
            "              num_parallel_tree=1, objective='multi:softprob', predictor='auto',\n",
            "              random_state=0, reg_alpha=0, reg_lambda=1, scale_pos_weight=None,\n",
            "              subsample=1, tree_method='gpu_hist', use_label_encoder=False,\n",
            "              validate_parameters=1, verbosity=None)\n"
          ]
        }
      ]
    },
    {
      "cell_type": "code",
      "source": [
        "type(df.iloc[0,:-1])"
      ],
      "metadata": {
        "colab": {
          "base_uri": "https://localhost:8080/"
        },
        "id": "j6Z9VEequThR",
        "outputId": "aca84e17-9b9d-43d1-92e0-eaef65afd2bd"
      },
      "execution_count": null,
      "outputs": [
        {
          "output_type": "execute_result",
          "data": {
            "text/plain": [
              "pandas.core.series.Series"
            ]
          },
          "metadata": {},
          "execution_count": 67
        }
      ]
    },
    {
      "cell_type": "code",
      "source": [
        "df.info()"
      ],
      "metadata": {
        "colab": {
          "base_uri": "https://localhost:8080/"
        },
        "id": "lOuqsYMJux2p",
        "outputId": "ec6a637d-7c33-4e41-8157-010af5d0c4a6"
      },
      "execution_count": null,
      "outputs": [
        {
          "output_type": "stream",
          "name": "stdout",
          "text": [
            "<class 'pandas.core.frame.DataFrame'>\n",
            "RangeIndex: 13035 entries, 0 to 13034\n",
            "Columns: 2501 entries, V1 to class\n",
            "dtypes: float64(2500), object(1)\n",
            "memory usage: 248.7+ MB\n"
          ]
        }
      ]
    },
    {
      "cell_type": "code",
      "source": [
        "type(X_test)"
      ],
      "metadata": {
        "colab": {
          "base_uri": "https://localhost:8080/"
        },
        "id": "ze62N2oevGgI",
        "outputId": "89ec8c8b-6d81-4b5b-90f5-ce08e6b52c0c"
      },
      "execution_count": null,
      "outputs": [
        {
          "output_type": "execute_result",
          "data": {
            "text/plain": [
              "pandas.core.frame.DataFrame"
            ]
          },
          "metadata": {},
          "execution_count": 72
        }
      ]
    },
    {
      "cell_type": "code",
      "source": [
        "X_test.shape"
      ],
      "metadata": {
        "colab": {
          "base_uri": "https://localhost:8080/"
        },
        "id": "cHhf6SSQxNAD",
        "outputId": "6067d82c-9a9d-4233-8bfe-641bbaba3092"
      },
      "execution_count": null,
      "outputs": [
        {
          "output_type": "execute_result",
          "data": {
            "text/plain": [
              "(3911, 2500)"
            ]
          },
          "metadata": {},
          "execution_count": 83
        }
      ]
    },
    {
      "cell_type": "code",
      "source": [
        "tmp=df.iloc[0,:-1]\n",
        "type(tmp)\n",
        "result=pd.DataFrame([tmp])\n",
        "print(result)\n",
        "print(type(result))"
      ],
      "metadata": {
        "colab": {
          "base_uri": "https://localhost:8080/"
        },
        "id": "sbCj8oDtu7b0",
        "outputId": "70c4cebe-e33f-45d6-db93-8ae9407c4347"
      },
      "execution_count": null,
      "outputs": [
        {
          "output_type": "stream",
          "name": "stdout",
          "text": [
            "       V1      V2      V3      V4      V5      V6      V7      V8      V9  \\\n",
            "0  0.9877  0.7669  0.7147  0.7791  2.3712  0.4663  0.5644  1.5337  1.0644   \n",
            "\n",
            "      V10  ...       V551        V552        V553        V554       V555  \\\n",
            "0  2.1135  ...  95877.142  114070.624  108091.136  114669.085  99283.599   \n",
            "\n",
            "         V556      V557       V558       V559        V560  \n",
            "0  108429.814  99375.89  94187.106  96137.087  101893.312  \n",
            "\n",
            "[1 rows x 2500 columns]\n",
            "<class 'pandas.core.frame.DataFrame'>\n"
          ]
        }
      ]
    },
    {
      "cell_type": "code",
      "source": [
        "result.head()"
      ],
      "metadata": {
        "colab": {
          "base_uri": "https://localhost:8080/",
          "height": 174
        },
        "id": "MNF5Jsk6wmPG",
        "outputId": "96878420-6261-49fb-9ce0-6ecdcf638d17"
      },
      "execution_count": null,
      "outputs": [
        {
          "output_type": "execute_result",
          "data": {
            "text/html": [
              "\n",
              "  <div id=\"df-f9400bf5-1519-4e76-b8ed-1ab1b49323d7\">\n",
              "    <div class=\"colab-df-container\">\n",
              "      <div>\n",
              "<style scoped>\n",
              "    .dataframe tbody tr th:only-of-type {\n",
              "        vertical-align: middle;\n",
              "    }\n",
              "\n",
              "    .dataframe tbody tr th {\n",
              "        vertical-align: top;\n",
              "    }\n",
              "\n",
              "    .dataframe thead th {\n",
              "        text-align: right;\n",
              "    }\n",
              "</style>\n",
              "<table border=\"1\" class=\"dataframe\">\n",
              "  <thead>\n",
              "    <tr style=\"text-align: right;\">\n",
              "      <th></th>\n",
              "      <th>V1</th>\n",
              "      <th>V2</th>\n",
              "      <th>V3</th>\n",
              "      <th>V4</th>\n",
              "      <th>V5</th>\n",
              "      <th>V6</th>\n",
              "      <th>V7</th>\n",
              "      <th>V8</th>\n",
              "      <th>V9</th>\n",
              "      <th>V10</th>\n",
              "      <th>...</th>\n",
              "      <th>V551</th>\n",
              "      <th>V552</th>\n",
              "      <th>V553</th>\n",
              "      <th>V554</th>\n",
              "      <th>V555</th>\n",
              "      <th>V556</th>\n",
              "      <th>V557</th>\n",
              "      <th>V558</th>\n",
              "      <th>V559</th>\n",
              "      <th>V560</th>\n",
              "    </tr>\n",
              "  </thead>\n",
              "  <tbody>\n",
              "    <tr>\n",
              "      <th>0</th>\n",
              "      <td>0.9877</td>\n",
              "      <td>0.7669</td>\n",
              "      <td>0.7147</td>\n",
              "      <td>0.7791</td>\n",
              "      <td>2.3712</td>\n",
              "      <td>0.4663</td>\n",
              "      <td>0.5644</td>\n",
              "      <td>1.5337</td>\n",
              "      <td>1.0644</td>\n",
              "      <td>2.1135</td>\n",
              "      <td>...</td>\n",
              "      <td>95877.142</td>\n",
              "      <td>114070.624</td>\n",
              "      <td>108091.136</td>\n",
              "      <td>114669.085</td>\n",
              "      <td>99283.599</td>\n",
              "      <td>108429.814</td>\n",
              "      <td>99375.89</td>\n",
              "      <td>94187.106</td>\n",
              "      <td>96137.087</td>\n",
              "      <td>101893.312</td>\n",
              "    </tr>\n",
              "  </tbody>\n",
              "</table>\n",
              "<p>1 rows × 2500 columns</p>\n",
              "</div>\n",
              "      <button class=\"colab-df-convert\" onclick=\"convertToInteractive('df-f9400bf5-1519-4e76-b8ed-1ab1b49323d7')\"\n",
              "              title=\"Convert this dataframe to an interactive table.\"\n",
              "              style=\"display:none;\">\n",
              "        \n",
              "  <svg xmlns=\"http://www.w3.org/2000/svg\" height=\"24px\"viewBox=\"0 0 24 24\"\n",
              "       width=\"24px\">\n",
              "    <path d=\"M0 0h24v24H0V0z\" fill=\"none\"/>\n",
              "    <path d=\"M18.56 5.44l.94 2.06.94-2.06 2.06-.94-2.06-.94-.94-2.06-.94 2.06-2.06.94zm-11 1L8.5 8.5l.94-2.06 2.06-.94-2.06-.94L8.5 2.5l-.94 2.06-2.06.94zm10 10l.94 2.06.94-2.06 2.06-.94-2.06-.94-.94-2.06-.94 2.06-2.06.94z\"/><path d=\"M17.41 7.96l-1.37-1.37c-.4-.4-.92-.59-1.43-.59-.52 0-1.04.2-1.43.59L10.3 9.45l-7.72 7.72c-.78.78-.78 2.05 0 2.83L4 21.41c.39.39.9.59 1.41.59.51 0 1.02-.2 1.41-.59l7.78-7.78 2.81-2.81c.8-.78.8-2.07 0-2.86zM5.41 20L4 18.59l7.72-7.72 1.47 1.35L5.41 20z\"/>\n",
              "  </svg>\n",
              "      </button>\n",
              "      \n",
              "  <style>\n",
              "    .colab-df-container {\n",
              "      display:flex;\n",
              "      flex-wrap:wrap;\n",
              "      gap: 12px;\n",
              "    }\n",
              "\n",
              "    .colab-df-convert {\n",
              "      background-color: #E8F0FE;\n",
              "      border: none;\n",
              "      border-radius: 50%;\n",
              "      cursor: pointer;\n",
              "      display: none;\n",
              "      fill: #1967D2;\n",
              "      height: 32px;\n",
              "      padding: 0 0 0 0;\n",
              "      width: 32px;\n",
              "    }\n",
              "\n",
              "    .colab-df-convert:hover {\n",
              "      background-color: #E2EBFA;\n",
              "      box-shadow: 0px 1px 2px rgba(60, 64, 67, 0.3), 0px 1px 3px 1px rgba(60, 64, 67, 0.15);\n",
              "      fill: #174EA6;\n",
              "    }\n",
              "\n",
              "    [theme=dark] .colab-df-convert {\n",
              "      background-color: #3B4455;\n",
              "      fill: #D2E3FC;\n",
              "    }\n",
              "\n",
              "    [theme=dark] .colab-df-convert:hover {\n",
              "      background-color: #434B5C;\n",
              "      box-shadow: 0px 1px 3px 1px rgba(0, 0, 0, 0.15);\n",
              "      filter: drop-shadow(0px 1px 2px rgba(0, 0, 0, 0.3));\n",
              "      fill: #FFFFFF;\n",
              "    }\n",
              "  </style>\n",
              "\n",
              "      <script>\n",
              "        const buttonEl =\n",
              "          document.querySelector('#df-f9400bf5-1519-4e76-b8ed-1ab1b49323d7 button.colab-df-convert');\n",
              "        buttonEl.style.display =\n",
              "          google.colab.kernel.accessAllowed ? 'block' : 'none';\n",
              "\n",
              "        async function convertToInteractive(key) {\n",
              "          const element = document.querySelector('#df-f9400bf5-1519-4e76-b8ed-1ab1b49323d7');\n",
              "          const dataTable =\n",
              "            await google.colab.kernel.invokeFunction('convertToInteractive',\n",
              "                                                     [key], {});\n",
              "          if (!dataTable) return;\n",
              "\n",
              "          const docLinkHtml = 'Like what you see? Visit the ' +\n",
              "            '<a target=\"_blank\" href=https://colab.research.google.com/notebooks/data_table.ipynb>data table notebook</a>'\n",
              "            + ' to learn more about interactive tables.';\n",
              "          element.innerHTML = '';\n",
              "          dataTable['output_type'] = 'display_data';\n",
              "          await google.colab.output.renderOutput(dataTable, element);\n",
              "          const docLink = document.createElement('div');\n",
              "          docLink.innerHTML = docLinkHtml;\n",
              "          element.appendChild(docLink);\n",
              "        }\n",
              "      </script>\n",
              "    </div>\n",
              "  </div>\n",
              "  "
            ],
            "text/plain": [
              "       V1      V2      V3      V4      V5      V6      V7      V8      V9  \\\n",
              "0  0.9877  0.7669  0.7147  0.7791  2.3712  0.4663  0.5644  1.5337  1.0644   \n",
              "\n",
              "      V10  ...       V551        V552        V553        V554       V555  \\\n",
              "0  2.1135  ...  95877.142  114070.624  108091.136  114669.085  99283.599   \n",
              "\n",
              "         V556      V557       V558       V559        V560  \n",
              "0  108429.814  99375.89  94187.106  96137.087  101893.312  \n",
              "\n",
              "[1 rows x 2500 columns]"
            ]
          },
          "metadata": {},
          "execution_count": 82
        }
      ]
    },
    {
      "cell_type": "code",
      "source": [
        "load_model.predict(result)"
      ],
      "metadata": {
        "colab": {
          "base_uri": "https://localhost:8080/"
        },
        "id": "wn4Y-a7vuHio",
        "outputId": "24a09dc8-97d4-49cd-c28d-d76a506a5a96"
      },
      "execution_count": null,
      "outputs": [
        {
          "output_type": "execute_result",
          "data": {
            "text/plain": [
              "array([3])"
            ]
          },
          "metadata": {},
          "execution_count": 84
        }
      ]
    },
    {
      "cell_type": "code",
      "source": [
        ""
      ],
      "metadata": {
        "id": "NAZhzfjPuHgI"
      },
      "execution_count": null,
      "outputs": []
    },
    {
      "cell_type": "code",
      "source": [
        "x.shape"
      ],
      "metadata": {
        "colab": {
          "base_uri": "https://localhost:8080/"
        },
        "id": "N8WaHAnAoxqe",
        "outputId": "c9459bb0-9695-47b6-c164-4800f4348d7b"
      },
      "execution_count": null,
      "outputs": [
        {
          "output_type": "execute_result",
          "data": {
            "text/plain": [
              "(2500,)"
            ]
          },
          "metadata": {},
          "execution_count": 36
        }
      ]
    },
    {
      "cell_type": "code",
      "source": [
        "X_test"
      ],
      "metadata": {
        "colab": {
          "base_uri": "https://localhost:8080/"
        },
        "id": "IlSfcuHVo-5K",
        "outputId": "7e7fdd1f-ceac-4abc-98c7-e3f202440895"
      },
      "execution_count": null,
      "outputs": [
        {
          "output_type": "execute_result",
          "data": {
            "text/plain": [
              "array([[-2.46600000e-01,  2.12300000e-01, -1.09600000e-01, ...,\n",
              "         2.03364140e+04,  1.96093290e+04,  1.79076290e+04],\n",
              "       [ 3.96400000e-01, -2.70300000e-01, -3.34230000e+00, ...,\n",
              "         8.04879000e+03,  1.01401140e+04,  9.60064900e+03],\n",
              "       [ 2.35800000e-01,  6.03000000e-01,  4.74600000e-01, ...,\n",
              "         1.10699111e+05,  1.00982104e+05,  9.32007550e+04],\n",
              "       ...,\n",
              "       [ 2.54000000e-02,  1.01690000e+00,  8.30500000e-01, ...,\n",
              "         1.14204440e+04,  1.30540070e+04,  1.45302370e+04],\n",
              "       [-8.74000000e-02,  3.01000000e-01,  1.26200000e-01, ...,\n",
              "         9.53949300e+03,  9.25253000e+03,  8.65143700e+03],\n",
              "       [ 3.53000000e-02,  2.70600000e-01, -2.35000000e-02, ...,\n",
              "         5.76700200e+03,  5.67108400e+03,  5.06099400e+03]])"
            ]
          },
          "metadata": {},
          "execution_count": 38
        }
      ]
    },
    {
      "cell_type": "code",
      "source": [
        "print(type(X_test))\n",
        "print(X_test.shape)"
      ],
      "metadata": {
        "colab": {
          "base_uri": "https://localhost:8080/"
        },
        "id": "qF5KcPmtpAx6",
        "outputId": "241b8d99-9f4d-4d9b-fed9-ca5c9f552cf4"
      },
      "execution_count": null,
      "outputs": [
        {
          "output_type": "stream",
          "name": "stdout",
          "text": [
            "<class 'numpy.ndarray'>\n",
            "(3911, 2500)\n"
          ]
        }
      ]
    },
    {
      "cell_type": "code",
      "source": [
        "X_test[0]"
      ],
      "metadata": {
        "colab": {
          "base_uri": "https://localhost:8080/"
        },
        "id": "9DlD4xHMpMmu",
        "outputId": "71bdf812-8da3-46b7-e04a-5a61688cbcf7"
      },
      "execution_count": null,
      "outputs": [
        {
          "output_type": "execute_result",
          "data": {
            "text/plain": [
              "array([-2.4660000e-01,  2.1230000e-01, -1.0960000e-01, ...,\n",
              "        2.0336414e+04,  1.9609329e+04,  1.7907629e+04])"
            ]
          },
          "metadata": {},
          "execution_count": 43
        }
      ]
    },
    {
      "cell_type": "code",
      "source": [
        "y_pred=model.predict(X_test)"
      ],
      "metadata": {
        "id": "O7KvvSwqob1s"
      },
      "execution_count": null,
      "outputs": []
    },
    {
      "cell_type": "code",
      "source": [
        "x=df.iloc[0,:-1].values\n",
        "x.shape\n"
      ],
      "metadata": {
        "colab": {
          "base_uri": "https://localhost:8080/"
        },
        "id": "sq49pQBLlI-4",
        "outputId": "b501b37f-be08-48c4-da57-f28789c8898a"
      },
      "execution_count": null,
      "outputs": [
        {
          "output_type": "execute_result",
          "data": {
            "text/plain": [
              "(2500,)"
            ]
          },
          "metadata": {},
          "execution_count": 34
        }
      ]
    },
    {
      "cell_type": "code",
      "source": [
        "cols_when_model_builds = load_model.get_booster().feature_names\n",
        "print(cols_when_model_builds)"
      ],
      "metadata": {
        "colab": {
          "base_uri": "https://localhost:8080/"
        },
        "id": "Agrz1S6Npz7h",
        "outputId": "8be313d9-5a20-47f9-d3ec-91b8ff8f99ed"
      },
      "execution_count": null,
      "outputs": [
        {
          "output_type": "stream",
          "name": "stdout",
          "text": [
            "None\n"
          ]
        }
      ]
    },
    {
      "cell_type": "code",
      "source": [
        "res=load_model.predict(X_test)"
      ],
      "metadata": {
        "id": "ttraJn6OmTHe"
      },
      "execution_count": null,
      "outputs": []
    },
    {
      "cell_type": "code",
      "source": [
        "y=x.reshape(-1,1)"
      ],
      "metadata": {
        "id": "skxbl945nEeT"
      },
      "execution_count": null,
      "outputs": []
    },
    {
      "cell_type": "code",
      "source": [
        "y"
      ],
      "metadata": {
        "colab": {
          "base_uri": "https://localhost:8080/"
        },
        "id": "0dlBKeQJqKLj",
        "outputId": "24db4fd5-3b04-4af3-b29d-043e9dfbdc27"
      },
      "execution_count": null,
      "outputs": [
        {
          "output_type": "execute_result",
          "data": {
            "text/plain": [
              "array([[0.9877],\n",
              "       [0.7669],\n",
              "       [0.7147],\n",
              "       ...,\n",
              "       [94187.106],\n",
              "       [96137.087],\n",
              "       [101893.312]], dtype=object)"
            ]
          },
          "metadata": {},
          "execution_count": 49
        }
      ]
    },
    {
      "cell_type": "code",
      "source": [
        "names=load_model.get_booster().feature_names\n",
        "print(names)"
      ],
      "metadata": {
        "colab": {
          "base_uri": "https://localhost:8080/"
        },
        "id": "KQdsUdl1qbHI",
        "outputId": "396b96e2-7e5a-4333-8a4e-fdc4f8b600d2"
      },
      "execution_count": null,
      "outputs": [
        {
          "output_type": "stream",
          "name": "stdout",
          "text": [
            "None\n"
          ]
        }
      ]
    },
    {
      "cell_type": "code",
      "source": [
        ""
      ],
      "metadata": {
        "id": "O3hkqej7qfpb"
      },
      "execution_count": null,
      "outputs": []
    },
    {
      "cell_type": "code",
      "source": [
        "def classModel3(data):\n",
        "  X= data.iloc[:,:-1].values\n",
        "  y= data.iloc[:,-1].values\n",
        "  \n",
        "  le = LabelEncoder()\n",
        "  print(y)\n",
        "  y= le.fit_transform(y) \n",
        "  print(y)\n",
        "\n",
        "  X_train, X_test, y_train, y_test = train_test_split(X, y, test_size = 0.30, random_state = 5)\n",
        "\n",
        "  model = XGBClassifier(tree_method='gpu_hist',use_label_encoder=False)\n",
        "  model.fit(X_train, y_train)\n",
        "  y_pred = model.predict(X_test)\n",
        "  pickle.dump(model, open(\"model2.dat\", \"wb\"))\n",
        "\n",
        "  print('\\nClassification report:\\n', classification_report(y_test,y_pred))\n",
        "  print('Confusion matrix: \\n', confusion_matrix(y_test,y_pred))\n",
        "\n",
        "  accuracy = accuracy_score(y_test,y_pred)\n",
        "  #accuracy_scores.append(accuracy)\n",
        "  print(\"\\n\\nAccuracy:\",accuracy_score(y_test, y_pred))\n",
        "\n",
        "  print(\"\\n\\nPrecision:\",precision_score(y_test, y_pred, average=None))\n",
        "  print(\"\\nRecall:\",recall_score(y_test, y_pred, average=None))\n",
        "  print(\"\\nF1 score:\",f1_score(y_test, y_pred, average=None))"
      ],
      "metadata": {
        "id": "5wsgwiZQMOv5"
      },
      "execution_count": null,
      "outputs": []
    },
    {
      "cell_type": "code",
      "source": [
        "df=pd.read_csv(\"combined_pssm3.csv\")\n",
        "df.tail()"
      ],
      "metadata": {
        "colab": {
          "base_uri": "https://localhost:8080/",
          "height": 299
        },
        "id": "6yggSpFeMOsh",
        "outputId": "8ccfbe74-fd07-4301-ddc2-141382e5853d"
      },
      "execution_count": null,
      "outputs": [
        {
          "output_type": "execute_result",
          "data": {
            "text/plain": [
              "           V1      V2      V3      V4      V5      V6      V7      V8      V9  \\\n",
              "13030  0.3654  0.5481  0.1346  0.5385  1.2212  0.1635  0.1442  0.6058  0.5577   \n",
              "13031  1.1848  1.5638  1.4769  2.9390  3.4769  2.3142  2.5730  1.2902  1.6839   \n",
              "13032 -1.1078  0.8627  0.8627  1.2255  1.7255  0.2451  1.0294  0.6765  0.3824   \n",
              "13033 -1.3900  0.6900  0.4500  1.4400  1.7000  0.5700  0.8200  0.8800  0.3700   \n",
              "13034  0.2966  0.6949  0.7288  0.8136  0.9492  0.4237  0.5000  1.5000  1.0508   \n",
              "\n",
              "          V10  ...        V552        V553        V554        V555  \\\n",
              "13030  0.9712  ...    9915.719    9176.061   10704.678   11398.771   \n",
              "13031  3.4455  ...  262958.914  285735.507  307587.675  299389.564   \n",
              "13032  0.9706  ...   10471.817    8660.796   10948.821   11523.082   \n",
              "13033  1.9300  ...   10565.884    8806.434   10773.072   10456.661   \n",
              "13034  0.0254  ...   12158.411   14458.614   16017.375   15627.743   \n",
              "\n",
              "             V556        V557        V558        V559        V560  class  \n",
              "13030   10360.027   11108.060   11440.514    9073.175    9461.005      b  \n",
              "13031  316437.921  294029.876  288840.762  287647.980  303895.461      d  \n",
              "13032   11647.923    9441.705    9310.609    8159.080    8141.003      d  \n",
              "13033   11102.445    8963.299    8891.549    7769.568    7952.767      d  \n",
              "13034   14401.645   13713.625   13803.527   12025.509   11144.905      b  \n",
              "\n",
              "[5 rows x 1871 columns]"
            ],
            "text/html": [
              "\n",
              "  <div id=\"df-93e6d0fd-b503-40ca-b013-79878a5993bd\">\n",
              "    <div class=\"colab-df-container\">\n",
              "      <div>\n",
              "<style scoped>\n",
              "    .dataframe tbody tr th:only-of-type {\n",
              "        vertical-align: middle;\n",
              "    }\n",
              "\n",
              "    .dataframe tbody tr th {\n",
              "        vertical-align: top;\n",
              "    }\n",
              "\n",
              "    .dataframe thead th {\n",
              "        text-align: right;\n",
              "    }\n",
              "</style>\n",
              "<table border=\"1\" class=\"dataframe\">\n",
              "  <thead>\n",
              "    <tr style=\"text-align: right;\">\n",
              "      <th></th>\n",
              "      <th>V1</th>\n",
              "      <th>V2</th>\n",
              "      <th>V3</th>\n",
              "      <th>V4</th>\n",
              "      <th>V5</th>\n",
              "      <th>V6</th>\n",
              "      <th>V7</th>\n",
              "      <th>V8</th>\n",
              "      <th>V9</th>\n",
              "      <th>V10</th>\n",
              "      <th>...</th>\n",
              "      <th>V552</th>\n",
              "      <th>V553</th>\n",
              "      <th>V554</th>\n",
              "      <th>V555</th>\n",
              "      <th>V556</th>\n",
              "      <th>V557</th>\n",
              "      <th>V558</th>\n",
              "      <th>V559</th>\n",
              "      <th>V560</th>\n",
              "      <th>class</th>\n",
              "    </tr>\n",
              "  </thead>\n",
              "  <tbody>\n",
              "    <tr>\n",
              "      <th>13030</th>\n",
              "      <td>0.3654</td>\n",
              "      <td>0.5481</td>\n",
              "      <td>0.1346</td>\n",
              "      <td>0.5385</td>\n",
              "      <td>1.2212</td>\n",
              "      <td>0.1635</td>\n",
              "      <td>0.1442</td>\n",
              "      <td>0.6058</td>\n",
              "      <td>0.5577</td>\n",
              "      <td>0.9712</td>\n",
              "      <td>...</td>\n",
              "      <td>9915.719</td>\n",
              "      <td>9176.061</td>\n",
              "      <td>10704.678</td>\n",
              "      <td>11398.771</td>\n",
              "      <td>10360.027</td>\n",
              "      <td>11108.060</td>\n",
              "      <td>11440.514</td>\n",
              "      <td>9073.175</td>\n",
              "      <td>9461.005</td>\n",
              "      <td>b</td>\n",
              "    </tr>\n",
              "    <tr>\n",
              "      <th>13031</th>\n",
              "      <td>1.1848</td>\n",
              "      <td>1.5638</td>\n",
              "      <td>1.4769</td>\n",
              "      <td>2.9390</td>\n",
              "      <td>3.4769</td>\n",
              "      <td>2.3142</td>\n",
              "      <td>2.5730</td>\n",
              "      <td>1.2902</td>\n",
              "      <td>1.6839</td>\n",
              "      <td>3.4455</td>\n",
              "      <td>...</td>\n",
              "      <td>262958.914</td>\n",
              "      <td>285735.507</td>\n",
              "      <td>307587.675</td>\n",
              "      <td>299389.564</td>\n",
              "      <td>316437.921</td>\n",
              "      <td>294029.876</td>\n",
              "      <td>288840.762</td>\n",
              "      <td>287647.980</td>\n",
              "      <td>303895.461</td>\n",
              "      <td>d</td>\n",
              "    </tr>\n",
              "    <tr>\n",
              "      <th>13032</th>\n",
              "      <td>-1.1078</td>\n",
              "      <td>0.8627</td>\n",
              "      <td>0.8627</td>\n",
              "      <td>1.2255</td>\n",
              "      <td>1.7255</td>\n",
              "      <td>0.2451</td>\n",
              "      <td>1.0294</td>\n",
              "      <td>0.6765</td>\n",
              "      <td>0.3824</td>\n",
              "      <td>0.9706</td>\n",
              "      <td>...</td>\n",
              "      <td>10471.817</td>\n",
              "      <td>8660.796</td>\n",
              "      <td>10948.821</td>\n",
              "      <td>11523.082</td>\n",
              "      <td>11647.923</td>\n",
              "      <td>9441.705</td>\n",
              "      <td>9310.609</td>\n",
              "      <td>8159.080</td>\n",
              "      <td>8141.003</td>\n",
              "      <td>d</td>\n",
              "    </tr>\n",
              "    <tr>\n",
              "      <th>13033</th>\n",
              "      <td>-1.3900</td>\n",
              "      <td>0.6900</td>\n",
              "      <td>0.4500</td>\n",
              "      <td>1.4400</td>\n",
              "      <td>1.7000</td>\n",
              "      <td>0.5700</td>\n",
              "      <td>0.8200</td>\n",
              "      <td>0.8800</td>\n",
              "      <td>0.3700</td>\n",
              "      <td>1.9300</td>\n",
              "      <td>...</td>\n",
              "      <td>10565.884</td>\n",
              "      <td>8806.434</td>\n",
              "      <td>10773.072</td>\n",
              "      <td>10456.661</td>\n",
              "      <td>11102.445</td>\n",
              "      <td>8963.299</td>\n",
              "      <td>8891.549</td>\n",
              "      <td>7769.568</td>\n",
              "      <td>7952.767</td>\n",
              "      <td>d</td>\n",
              "    </tr>\n",
              "    <tr>\n",
              "      <th>13034</th>\n",
              "      <td>0.2966</td>\n",
              "      <td>0.6949</td>\n",
              "      <td>0.7288</td>\n",
              "      <td>0.8136</td>\n",
              "      <td>0.9492</td>\n",
              "      <td>0.4237</td>\n",
              "      <td>0.5000</td>\n",
              "      <td>1.5000</td>\n",
              "      <td>1.0508</td>\n",
              "      <td>0.0254</td>\n",
              "      <td>...</td>\n",
              "      <td>12158.411</td>\n",
              "      <td>14458.614</td>\n",
              "      <td>16017.375</td>\n",
              "      <td>15627.743</td>\n",
              "      <td>14401.645</td>\n",
              "      <td>13713.625</td>\n",
              "      <td>13803.527</td>\n",
              "      <td>12025.509</td>\n",
              "      <td>11144.905</td>\n",
              "      <td>b</td>\n",
              "    </tr>\n",
              "  </tbody>\n",
              "</table>\n",
              "<p>5 rows × 1871 columns</p>\n",
              "</div>\n",
              "      <button class=\"colab-df-convert\" onclick=\"convertToInteractive('df-93e6d0fd-b503-40ca-b013-79878a5993bd')\"\n",
              "              title=\"Convert this dataframe to an interactive table.\"\n",
              "              style=\"display:none;\">\n",
              "        \n",
              "  <svg xmlns=\"http://www.w3.org/2000/svg\" height=\"24px\"viewBox=\"0 0 24 24\"\n",
              "       width=\"24px\">\n",
              "    <path d=\"M0 0h24v24H0V0z\" fill=\"none\"/>\n",
              "    <path d=\"M18.56 5.44l.94 2.06.94-2.06 2.06-.94-2.06-.94-.94-2.06-.94 2.06-2.06.94zm-11 1L8.5 8.5l.94-2.06 2.06-.94-2.06-.94L8.5 2.5l-.94 2.06-2.06.94zm10 10l.94 2.06.94-2.06 2.06-.94-2.06-.94-.94-2.06-.94 2.06-2.06.94z\"/><path d=\"M17.41 7.96l-1.37-1.37c-.4-.4-.92-.59-1.43-.59-.52 0-1.04.2-1.43.59L10.3 9.45l-7.72 7.72c-.78.78-.78 2.05 0 2.83L4 21.41c.39.39.9.59 1.41.59.51 0 1.02-.2 1.41-.59l7.78-7.78 2.81-2.81c.8-.78.8-2.07 0-2.86zM5.41 20L4 18.59l7.72-7.72 1.47 1.35L5.41 20z\"/>\n",
              "  </svg>\n",
              "      </button>\n",
              "      \n",
              "  <style>\n",
              "    .colab-df-container {\n",
              "      display:flex;\n",
              "      flex-wrap:wrap;\n",
              "      gap: 12px;\n",
              "    }\n",
              "\n",
              "    .colab-df-convert {\n",
              "      background-color: #E8F0FE;\n",
              "      border: none;\n",
              "      border-radius: 50%;\n",
              "      cursor: pointer;\n",
              "      display: none;\n",
              "      fill: #1967D2;\n",
              "      height: 32px;\n",
              "      padding: 0 0 0 0;\n",
              "      width: 32px;\n",
              "    }\n",
              "\n",
              "    .colab-df-convert:hover {\n",
              "      background-color: #E2EBFA;\n",
              "      box-shadow: 0px 1px 2px rgba(60, 64, 67, 0.3), 0px 1px 3px 1px rgba(60, 64, 67, 0.15);\n",
              "      fill: #174EA6;\n",
              "    }\n",
              "\n",
              "    [theme=dark] .colab-df-convert {\n",
              "      background-color: #3B4455;\n",
              "      fill: #D2E3FC;\n",
              "    }\n",
              "\n",
              "    [theme=dark] .colab-df-convert:hover {\n",
              "      background-color: #434B5C;\n",
              "      box-shadow: 0px 1px 3px 1px rgba(0, 0, 0, 0.15);\n",
              "      filter: drop-shadow(0px 1px 2px rgba(0, 0, 0, 0.3));\n",
              "      fill: #FFFFFF;\n",
              "    }\n",
              "  </style>\n",
              "\n",
              "      <script>\n",
              "        const buttonEl =\n",
              "          document.querySelector('#df-93e6d0fd-b503-40ca-b013-79878a5993bd button.colab-df-convert');\n",
              "        buttonEl.style.display =\n",
              "          google.colab.kernel.accessAllowed ? 'block' : 'none';\n",
              "\n",
              "        async function convertToInteractive(key) {\n",
              "          const element = document.querySelector('#df-93e6d0fd-b503-40ca-b013-79878a5993bd');\n",
              "          const dataTable =\n",
              "            await google.colab.kernel.invokeFunction('convertToInteractive',\n",
              "                                                     [key], {});\n",
              "          if (!dataTable) return;\n",
              "\n",
              "          const docLinkHtml = 'Like what you see? Visit the ' +\n",
              "            '<a target=\"_blank\" href=https://colab.research.google.com/notebooks/data_table.ipynb>data table notebook</a>'\n",
              "            + ' to learn more about interactive tables.';\n",
              "          element.innerHTML = '';\n",
              "          dataTable['output_type'] = 'display_data';\n",
              "          await google.colab.output.renderOutput(dataTable, element);\n",
              "          const docLink = document.createElement('div');\n",
              "          docLink.innerHTML = docLinkHtml;\n",
              "          element.appendChild(docLink);\n",
              "        }\n",
              "      </script>\n",
              "    </div>\n",
              "  </div>\n",
              "  "
            ]
          },
          "metadata": {},
          "execution_count": 30
        }
      ]
    },
    {
      "cell_type": "code",
      "source": [
        "classModel3(df)"
      ],
      "metadata": {
        "colab": {
          "base_uri": "https://localhost:8080/"
        },
        "id": "KVbR3U38M57B",
        "outputId": "7fba7527-93f6-4bfc-8302-1a0b8bf3210d"
      },
      "execution_count": null,
      "outputs": [
        {
          "output_type": "stream",
          "name": "stdout",
          "text": [
            "['d' 'd' 'd' ... 'd' 'd' 'b']\n",
            "[3 3 3 ... 3 3 1]\n",
            "[04:29:21] WARNING: ../src/learner.cc:1115: Starting in XGBoost 1.3.0, the default evaluation metric used with the objective 'multi:softprob' was changed from 'merror' to 'mlogloss'. Explicitly set eval_metric if you'd like to restore the old behavior.\n",
            "\n",
            "Classification report:\n",
            "               precision    recall  f1-score   support\n",
            "\n",
            "           0       0.89      0.88      0.89       772\n",
            "           1       0.82      0.88      0.85       825\n",
            "           2       0.90      0.90      0.90      1293\n",
            "           3       0.79      0.75      0.77      1021\n",
            "\n",
            "    accuracy                           0.85      3911\n",
            "   macro avg       0.85      0.85      0.85      3911\n",
            "weighted avg       0.85      0.85      0.85      3911\n",
            "\n",
            "Confusion matrix: \n",
            " [[ 680   11   24   57]\n",
            " [  12  725   14   74]\n",
            " [  19   33 1164   77]\n",
            " [  51  111   91  768]]\n",
            "\n",
            "\n",
            "Accuracy: 0.8532344668882639\n",
            "\n",
            "\n",
            "Precision: [0.89238845 0.82386364 0.90023202 0.78688525]\n",
            "\n",
            "Recall: [0.88082902 0.87878788 0.90023202 0.75220372]\n",
            "\n",
            "F1 score: [0.88657106 0.85043988 0.90023202 0.76915373]\n"
          ]
        }
      ]
    },
    {
      "cell_type": "code",
      "source": [
        "\n"
      ],
      "metadata": {
        "id": "TtB9fa2bNAfL"
      },
      "execution_count": null,
      "outputs": []
    },
    {
      "cell_type": "code",
      "source": [
        "X= df.iloc[:,:-1]\n",
        "y= df.iloc[:,-1]\n",
        "print(X)\n",
        "print(y)\n",
        "\n",
        "le = LabelEncoder()\n",
        "print(y)\n",
        "y= le.fit_transform(y) \n",
        "print(y)\n",
        "\n",
        "X_train, X_test, y_train, y_test = train_test_split(X, y, test_size = 0.30, random_state = 5)\n",
        "\n",
        "model = XGBClassifier(tree_method='gpu_hist',use_label_encoder=False)\n",
        "\n",
        "model.fit(X_train, y_train)\n",
        "\n",
        "y_pred = model.predict(X_test)\n",
        "\n",
        "print('\\nClassification report:\\n', classification_report(y_test,y_pred))\n",
        "print('Confusion matrix: \\n', confusion_matrix(y_test,y_pred))\n",
        "\n",
        "accuracy = accuracy_score(y_test,y_pred)\n",
        "#accuracy_scores.append(accuracy)\n",
        "print(\"\\n\\nAccuracy:\",accuracy_score(y_test, y_pred))\n",
        "\n",
        "print(\"\\n\\nPrecision:\",precision_score(y_test, y_pred, average=None))\n",
        "print(\"\\nRecall:\",recall_score(y_test, y_pred, average=None))\n",
        "print(\"\\nF1 score:\",f1_score(y_test, y_pred, average=None))\n",
        "\n",
        "pickle.dump(model, open(\"model2.dat\", \"wb\"))"
      ],
      "metadata": {
        "colab": {
          "base_uri": "https://localhost:8080/"
        },
        "id": "29plC1_JTn2T",
        "outputId": "471d346f-b720-4a94-8c10-9bfd06009ea9"
      },
      "execution_count": null,
      "outputs": [
        {
          "output_type": "stream",
          "name": "stdout",
          "text": [
            "           V1      V2      V3      V4      V5      V6      V7      V8      V9  \\\n",
            "0      0.9877  0.7669  0.7147  0.7791  2.3712  0.4663  0.5644  1.5337  1.0644   \n",
            "1      0.1183  0.4592  0.4479  0.5577  0.4423  0.2789  0.3775  0.6761  0.6141   \n",
            "2      0.6753  0.9351  1.0390  1.8442  0.5844  0.8182  1.0649  1.6623  0.9870   \n",
            "3     -0.0625  0.4167  0.7083  0.6771  0.5104  0.1042  0.3021  0.2708  0.9688   \n",
            "4      2.0909  4.2576  4.5606  5.7576  4.9848  3.6364  4.7273  4.2121  5.4242   \n",
            "...       ...     ...     ...     ...     ...     ...     ...     ...     ...   \n",
            "13030  0.3654  0.5481  0.1346  0.5385  1.2212  0.1635  0.1442  0.6058  0.5577   \n",
            "13031  1.1848  1.5638  1.4769  2.9390  3.4769  2.3142  2.5730  1.2902  1.6839   \n",
            "13032 -1.1078  0.8627  0.8627  1.2255  1.7255  0.2451  1.0294  0.6765  0.3824   \n",
            "13033 -1.3900  0.6900  0.4500  1.4400  1.7000  0.5700  0.8200  0.8800  0.3700   \n",
            "13034  0.2966  0.6949  0.7288  0.8136  0.9492  0.4237  0.5000  1.5000  1.0508   \n",
            "\n",
            "          V10  ...        V551        V552        V553        V554  \\\n",
            "0      2.1135  ...   95877.142  114070.624  108091.136  114669.085   \n",
            "1      0.2000  ...  120356.604  137325.433  131197.669  135505.009   \n",
            "2      0.0649  ...    4743.110    5949.595    5316.943    5636.386   \n",
            "3      0.3125  ...    7587.045    8391.055    8743.541    7549.078   \n",
            "4      3.4697  ...    3082.977    4683.468    4057.229    4114.765   \n",
            "...       ...  ...         ...         ...         ...         ...   \n",
            "13030  0.9712  ...    9646.457    9915.719    9176.061   10704.678   \n",
            "13031  3.4455  ...  291340.219  262958.914  285735.507  307587.675   \n",
            "13032  0.9706  ...    8200.230   10471.817    8660.796   10948.821   \n",
            "13033  1.9300  ...    7877.795   10565.884    8806.434   10773.072   \n",
            "13034  0.0254  ...   12068.708   12158.411   14458.614   16017.375   \n",
            "\n",
            "             V555        V556        V557        V558        V559        V560  \n",
            "0       99283.599  108429.814   99375.890   94187.106   96137.087  101893.312  \n",
            "1      117565.612  127873.474  123841.017  118688.798  118811.827  133332.085  \n",
            "2        5225.542    6527.143    5140.157    5661.591    5220.387    4293.378  \n",
            "3        9642.123    9897.976    8942.383    9205.542    9950.298    7470.748  \n",
            "4        3349.771    4024.599    4237.269    3284.416    3987.280    3333.758  \n",
            "...           ...         ...         ...         ...         ...         ...  \n",
            "13030   11398.771   10360.027   11108.060   11440.514    9073.175    9461.005  \n",
            "13031  299389.564  316437.921  294029.876  288840.762  287647.980  303895.461  \n",
            "13032   11523.082   11647.923    9441.705    9310.609    8159.080    8141.003  \n",
            "13033   10456.661   11102.445    8963.299    8891.549    7769.568    7952.767  \n",
            "13034   15627.743   14401.645   13713.625   13803.527   12025.509   11144.905  \n",
            "\n",
            "[13035 rows x 1870 columns]\n",
            "0        d\n",
            "1        d\n",
            "2        d\n",
            "3        d\n",
            "4        a\n",
            "        ..\n",
            "13030    b\n",
            "13031    d\n",
            "13032    d\n",
            "13033    d\n",
            "13034    b\n",
            "Name: class, Length: 13035, dtype: object\n",
            "0        d\n",
            "1        d\n",
            "2        d\n",
            "3        d\n",
            "4        a\n",
            "        ..\n",
            "13030    b\n",
            "13031    d\n",
            "13032    d\n",
            "13033    d\n",
            "13034    b\n",
            "Name: class, Length: 13035, dtype: object\n",
            "[3 3 3 ... 3 3 1]\n",
            "[04:37:48] WARNING: ../src/learner.cc:1115: Starting in XGBoost 1.3.0, the default evaluation metric used with the objective 'multi:softprob' was changed from 'merror' to 'mlogloss'. Explicitly set eval_metric if you'd like to restore the old behavior.\n",
            "\n",
            "Classification report:\n",
            "               precision    recall  f1-score   support\n",
            "\n",
            "           0       0.89      0.88      0.89       772\n",
            "           1       0.82      0.88      0.85       825\n",
            "           2       0.90      0.90      0.90      1293\n",
            "           3       0.79      0.75      0.77      1021\n",
            "\n",
            "    accuracy                           0.85      3911\n",
            "   macro avg       0.85      0.85      0.85      3911\n",
            "weighted avg       0.85      0.85      0.85      3911\n",
            "\n",
            "Confusion matrix: \n",
            " [[ 680   11   24   57]\n",
            " [  12  725   14   74]\n",
            " [  19   33 1164   77]\n",
            " [  51  111   91  768]]\n",
            "\n",
            "\n",
            "Accuracy: 0.8532344668882639\n",
            "\n",
            "\n",
            "Precision: [0.89238845 0.82386364 0.90023202 0.78688525]\n",
            "\n",
            "Recall: [0.88082902 0.87878788 0.90023202 0.75220372]\n",
            "\n",
            "F1 score: [0.88657106 0.85043988 0.90023202 0.76915373]\n"
          ]
        }
      ]
    },
    {
      "cell_type": "code",
      "source": [
        ""
      ],
      "metadata": {
        "id": "ifdAIBQPT2Gt"
      },
      "execution_count": null,
      "outputs": []
    }
  ]
}